{
 "cells": [
  {
   "cell_type": "markdown",
   "metadata": {},
   "source": [
    "# Problem Set 3: Merging and regular expressions\n",
    "\n",
    "**Total points (without extra credit)**: 44\n",
    "\n",
    "**Background on the policy context**: here, we're going to use two datasets to practice reshaping, merging, and regular expression patterns. Both datasets relate to the broader issue of which employers might be violating the rights of temporary guestworkers granted visas under the H-2A program. Here are some articles about potential exploitation of guestworkers by firms and inequality caused by minimal oversight:\n",
    "\n",
    "- News media coverage of labor abuses of temporary guestworkers: https://www.buzzfeednews.com/article/kenbensinger/the-pushovers \n",
    "- GAO report on labor abuses of temporary guestworkers: https://www.gao.gov/products/gao-15-154\n",
    "\n",
    "The following datasets are located in `pset3_inputdata` (need to unzip): \n",
    "\n",
    "- `jobs`: a dataset of guestworker jobs posted by many employers, some of whom have been debarred (banned) from the program for labor abuses; others not debarred\n",
    "- `debar`: a dataset of employers who committed violations of labor regulations meant to protect temporary guestworkers \n",
    "\n",
    "\n",
    "## Resources from class\n",
    "\n",
    "- [Lecture](https://github.com/jhaber-zz/QSS20_public/blob/main/slides/06_qss20_w23_mergereshape.pdf) and [activity](https://github.com/jhaber-zz/QSS20_public/blob/main/activities/03_reshaping_merging_solutions.ipynb) on exact merging\n",
    "- [Lecture](https://github.com/jhaber-zz/QSS20_public/blob/main/slides/07_qss20_w23_regex.pdf) and [activity](https://github.com/jhaber-zz/QSS20_public/blob/main/activities/04_regex_blank.ipynb) on regular expressions (both coming in class on Feb. 1)\n",
    "- DataCamp modules on both of these"
   ]
  },
  {
   "cell_type": "markdown",
   "metadata": {},
   "source": [
    "# 0. Load packages & data (1 point total)"
   ]
  },
  {
   "cell_type": "code",
   "execution_count": 3,
   "metadata": {},
   "outputs": [],
   "source": [
    "## helpful packages\n",
    "import pandas as pd\n",
    "import numpy as np\n",
    "import random\n",
    "import re\n",
    "import os\n",
    "\n",
    "## repeated printouts\n",
    "from IPython.core.interactiveshell import InteractiveShell\n",
    "InteractiveShell.ast_node_interactivity = \"all\"\n"
   ]
  },
  {
   "cell_type": "markdown",
   "metadata": {},
   "source": [
    "## 0.1 Load data (0 points)\n",
    "\n",
    "Load the following dataset stored in `pset3_inputdata`&mdash;`debar.csv`&mdash;storing it as a dataframe named `debar`. This represents employers temporarily banned from hiring workers.\n",
    "\n",
    "View the `head()` and columns of this dataframe."
   ]
  },
  {
   "cell_type": "code",
   "execution_count": 4,
   "metadata": {},
   "outputs": [
    {
     "data": {
      "text/html": [
       "<div>\n",
       "<style scoped>\n",
       "    .dataframe tbody tr th:only-of-type {\n",
       "        vertical-align: middle;\n",
       "    }\n",
       "\n",
       "    .dataframe tbody tr th {\n",
       "        vertical-align: top;\n",
       "    }\n",
       "\n",
       "    .dataframe thead th {\n",
       "        text-align: right;\n",
       "    }\n",
       "</style>\n",
       "<table border=\"1\" class=\"dataframe\">\n",
       "  <thead>\n",
       "    <tr style=\"text-align: right;\">\n",
       "      <th></th>\n",
       "      <th>Name</th>\n",
       "      <th>City, State</th>\n",
       "      <th>Violation</th>\n",
       "      <th>Duration</th>\n",
       "      <th>Start date</th>\n",
       "      <th>End date</th>\n",
       "    </tr>\n",
       "  </thead>\n",
       "  <tbody>\n",
       "    <tr>\n",
       "      <th>0</th>\n",
       "      <td>J&amp;J Harvesting</td>\n",
       "      <td>Leads, ND</td>\n",
       "      <td>Failure to respond to audit (partial response)</td>\n",
       "      <td>2 years</td>\n",
       "      <td>1/19/2014</td>\n",
       "      <td>1/18/2016</td>\n",
       "    </tr>\n",
       "    <tr>\n",
       "      <th>1</th>\n",
       "      <td>Stahlman Apiaries, Inc</td>\n",
       "      <td>Selby, SD</td>\n",
       "      <td>Failure to respond to audit (partial response)</td>\n",
       "      <td>1 year</td>\n",
       "      <td>2/19/2015</td>\n",
       "      <td>2/14/2016</td>\n",
       "    </tr>\n",
       "    <tr>\n",
       "      <th>2</th>\n",
       "      <td>Trust Nursery</td>\n",
       "      <td>Pulaski, NY</td>\n",
       "      <td>Failure to respond to audit (partial response)</td>\n",
       "      <td>1 year</td>\n",
       "      <td>3/21/2014</td>\n",
       "      <td>3/20/2015</td>\n",
       "    </tr>\n",
       "    <tr>\n",
       "      <th>3</th>\n",
       "      <td>Anton Fertilizer Inc.</td>\n",
       "      <td>Dighton, KS</td>\n",
       "      <td>Failure to respond to audit (no response)</td>\n",
       "      <td>2 years</td>\n",
       "      <td>3/30/2014</td>\n",
       "      <td>3/29/2016</td>\n",
       "    </tr>\n",
       "    <tr>\n",
       "      <th>4</th>\n",
       "      <td>Great Plains Fluid Service, Inc.</td>\n",
       "      <td>Greensburg, KS</td>\n",
       "      <td>Failure to respond to audit (no response)</td>\n",
       "      <td>2 years</td>\n",
       "      <td>3/30/2014</td>\n",
       "      <td>3/29/2016</td>\n",
       "    </tr>\n",
       "  </tbody>\n",
       "</table>\n",
       "</div>"
      ],
      "text/plain": [
       "                               Name     City, State  \\\n",
       "0                    J&J Harvesting       Leads, ND   \n",
       "1            Stahlman Apiaries, Inc       Selby, SD   \n",
       "2                     Trust Nursery     Pulaski, NY   \n",
       "3             Anton Fertilizer Inc.     Dighton, KS   \n",
       "4  Great Plains Fluid Service, Inc.  Greensburg, KS   \n",
       "\n",
       "                                        Violation Duration Start date  \\\n",
       "0  Failure to respond to audit (partial response)  2 years  1/19/2014   \n",
       "1  Failure to respond to audit (partial response)   1 year  2/19/2015   \n",
       "2  Failure to respond to audit (partial response)   1 year  3/21/2014   \n",
       "3       Failure to respond to audit (no response)  2 years  3/30/2014   \n",
       "4       Failure to respond to audit (no response)  2 years  3/30/2014   \n",
       "\n",
       "    End date  \n",
       "0  1/18/2016  \n",
       "1  2/14/2016  \n",
       "2  3/20/2015  \n",
       "3  3/29/2016  \n",
       "4  3/29/2016  "
      ]
     },
     "execution_count": 4,
     "metadata": {},
     "output_type": "execute_result"
    },
    {
     "data": {
      "text/plain": [
       "Index(['Name', 'City, State', 'Violation', 'Duration', 'Start date',\n",
       "       'End date'],\n",
       "      dtype='object')"
      ]
     },
     "execution_count": 4,
     "metadata": {},
     "output_type": "execute_result"
    }
   ],
   "source": [
    "## your code here\n",
    "debar = pd.read_csv('pset3_inputdata/debar.csv')\n",
    "debar.head()\n",
    "debar.columns"
   ]
  },
  {
   "cell_type": "markdown",
   "metadata": {},
   "source": [
    "The most notable column names mean as follows:\n",
    "- `Name`:\tCompany name of agricultural employer\n",
    "- `City, State`:\tCity and state where employer located\n",
    "- `Violation`:\tType of program violation\n",
    "- `Start date`:\tStart date of debarment (temporary ban)"
   ]
  },
  {
   "cell_type": "markdown",
   "metadata": {},
   "source": [
    "## 0.2 Inspect data (1 point)\n",
    "\n",
    "Print the number of rows in `debar` versus the number of unique employer names (`Name`). Is there one row per employer or multiple rows for some employers?"
   ]
  },
  {
   "cell_type": "code",
   "execution_count": 5,
   "metadata": {},
   "outputs": [
    {
     "data": {
      "text/plain": [
       "98"
      ]
     },
     "execution_count": 5,
     "metadata": {},
     "output_type": "execute_result"
    },
    {
     "data": {
      "text/plain": [
       "(114, 6)"
      ]
     },
     "execution_count": 5,
     "metadata": {},
     "output_type": "execute_result"
    }
   ],
   "source": [
    "## your code here\n",
    "debar['Name'].nunique()\n",
    "debar.shape\n",
    "## There are 98 unique employer name whereas the dataset has 114 entries, indicating that there are multiple rows for some employers."
   ]
  },
  {
   "cell_type": "markdown",
   "metadata": {},
   "source": [
    "# 1. Reshape data and check duplicates (19 points total)\n",
    "\n",
    "## 1.1 Make indicator for violation number (2 points)\n",
    "\n",
    "To make it possible to reshape data, make an indicator for the violation number for each business. The indicator should take the value of `viol` if it's the first row/potential violation, `viol2` if the second row/potential violation, etc.\n",
    "\n",
    "**Hint:**\n",
    "- One way to do this is by using an if-else statement to check whether the business name is the same as in the row above (assuming rows are ordered by name). Grouping by employer name and checking the number of unique offenses would also work."
   ]
  },
  {
   "cell_type": "code",
   "execution_count": 6,
   "metadata": {},
   "outputs": [
    {
     "data": {
      "text/plain": [
       "viol1    98\n",
       "viol2    16\n",
       "Name: violation_number, dtype: int64"
      ]
     },
     "execution_count": 6,
     "metadata": {},
     "output_type": "execute_result"
    }
   ],
   "source": [
    "## your code here\n",
    "debar['violation_number'] = debar.groupby('Name').cumcount() + 1\n",
    "## later in the pset, it says we need \"viol1\" not \"viol\" (contrary to the instruction above). So we are saving it as \"viol1\".\n",
    "debar['violation_number'] = debar['violation_number'].apply(lambda x: 'viol' + str(x))\n",
    "debar['violation_number'].value_counts()\n"
   ]
  },
  {
   "cell_type": "markdown",
   "metadata": {},
   "source": [
    "## 1.2 Clean up state names (3 points)\n",
    "\n",
    "Inspect the state names in the business violation data. Which states have names sometimes indicated in long format vs. two-letter abbreviation, e.g. \"New Hampshire\" vs. \"NH\"? Which of these may have more than one violation?\n",
    "\n",
    "**Hint:** \n",
    "- One way to do this is to extract state names from the `City, State` column using regex and/or string methods.\n",
    "- The simplest way to check if a state may have more than one violation is to check how many times they appear using `value_counts()`. "
   ]
  },
  {
   "cell_type": "code",
   "execution_count": 7,
   "metadata": {},
   "outputs": [
    {
     "data": {
      "text/plain": [
       "{'Arkansas',\n",
       " 'California',\n",
       " 'Florida',\n",
       " 'Georgia',\n",
       " 'Idaho',\n",
       " 'Kansas',\n",
       " 'Louisiana',\n",
       " 'Massachusetts',\n",
       " 'North Carolina',\n",
       " 'North Dakota',\n",
       " 'Tennessee',\n",
       " 'Texas',\n",
       " 'Utah',\n",
       " 'Vermont'}"
      ]
     },
     "execution_count": 7,
     "metadata": {},
     "output_type": "execute_result"
    }
   ],
   "source": [
    "## your code here\n",
    "## extract state names from the 'City, State' column\n",
    "debar['State'] = debar['City, State'].str.extract(r',\\s+(.*)')\n",
    "\n",
    "## long form indicator\n",
    "debar['State_long_indicator'] = debar['State'].apply(lambda x: True if len(str(x)) > 2 else False)\n",
    "# debar['State'].value_counts()\n",
    "long_state_names = set(debar[(~debar.State.isna()) & (debar.State_long_indicator == True)]['State'].unique())\n",
    "\n",
    "long_state_names # a set of all the states with a long-format name"
   ]
  },
  {
   "cell_type": "code",
   "execution_count": 8,
   "metadata": {},
   "outputs": [
    {
     "data": {
      "text/plain": [
       "Georgia           9\n",
       "Texas             4\n",
       "North Dakota      3\n",
       "Utah              2\n",
       "Florida           2\n",
       "Kansas            1\n",
       "California        1\n",
       "Arkansas          1\n",
       "Vermont           1\n",
       "Tennessee         1\n",
       "Louisiana         1\n",
       "North Carolina    1\n",
       "Idaho             1\n",
       "Massachusetts     1\n",
       "Name: State, dtype: int64"
      ]
     },
     "execution_count": 8,
     "metadata": {},
     "output_type": "execute_result"
    }
   ],
   "source": [
    "## violation count of all the states in the long-format name\n",
    "debar[debar.State.isin(long_state_names)]['State'].value_counts()"
   ]
  },
  {
   "cell_type": "code",
   "execution_count": 9,
   "metadata": {},
   "outputs": [
    {
     "data": {
      "text/plain": [
       "Georgia         9\n",
       "Texas           4\n",
       "North Dakota    3\n",
       "Utah            2\n",
       "Florida         2\n",
       "Name: State, dtype: int64"
      ]
     },
     "execution_count": 9,
     "metadata": {},
     "output_type": "execute_result"
    }
   ],
   "source": [
    "## subset only the states with a violation count of more than one\n",
    "long_format_count = debar[debar.State.isin(long_state_names)]['State'].value_counts()\n",
    "long_format_count = long_format_count[long_format_count > 1]\n",
    "long_format_count"
   ]
  },
  {
   "cell_type": "markdown",
   "metadata": {},
   "source": [
    "To make the state names consistent with the jobs data below, convert any discrepant state names to the two-letter abbreviation format. \n",
    "\n",
    "**Hints:**\n",
    "- You could do this for all state names (to be safe) or only those you just identified. \n",
    "- If you want to change ANY discrepant state names from long format to two-letter format (i.e., a complete conversion), you can load state names from a complete name/abbreviation crosswalk and use that to change state names. Here is code to load in such a list ([from this blog](https://towardsdatascience.com/state-name-to-state-abbreviation-crosswalks-6936250976c)):\n",
    "```python\n",
    "crosswalk_url = 'http://app02.clerk.org/menu/ccis/Help/CCIS%20Codes/state_codes.html'\n",
    "pd.read_html(crosswalk_url)[0]\n",
    "```"
   ]
  },
  {
   "cell_type": "code",
   "execution_count": 10,
   "metadata": {},
   "outputs": [
    {
     "data": {
      "text/html": [
       "<div>\n",
       "<style scoped>\n",
       "    .dataframe tbody tr th:only-of-type {\n",
       "        vertical-align: middle;\n",
       "    }\n",
       "\n",
       "    .dataframe tbody tr th {\n",
       "        vertical-align: top;\n",
       "    }\n",
       "\n",
       "    .dataframe thead th {\n",
       "        text-align: right;\n",
       "    }\n",
       "</style>\n",
       "<table border=\"1\" class=\"dataframe\">\n",
       "  <thead>\n",
       "    <tr style=\"text-align: right;\">\n",
       "      <th></th>\n",
       "      <th>City, State</th>\n",
       "      <th>State</th>\n",
       "      <th>State_cleaned</th>\n",
       "    </tr>\n",
       "  </thead>\n",
       "  <tbody>\n",
       "    <tr>\n",
       "      <th>75</th>\n",
       "      <td>Choteau, MT</td>\n",
       "      <td>MT</td>\n",
       "      <td>MT</td>\n",
       "    </tr>\n",
       "    <tr>\n",
       "      <th>23</th>\n",
       "      <td>Lakin, Kansas</td>\n",
       "      <td>Kansas</td>\n",
       "      <td>KS</td>\n",
       "    </tr>\n",
       "    <tr>\n",
       "      <th>39</th>\n",
       "      <td>NaN</td>\n",
       "      <td>NaN</td>\n",
       "      <td>NaN</td>\n",
       "    </tr>\n",
       "    <tr>\n",
       "      <th>26</th>\n",
       "      <td>Miami, FL</td>\n",
       "      <td>FL</td>\n",
       "      <td>FL</td>\n",
       "    </tr>\n",
       "    <tr>\n",
       "      <th>6</th>\n",
       "      <td>Annabella, UT</td>\n",
       "      <td>UT</td>\n",
       "      <td>UT</td>\n",
       "    </tr>\n",
       "    <tr>\n",
       "      <th>93</th>\n",
       "      <td>Franklin, North Carolina</td>\n",
       "      <td>North Carolina</td>\n",
       "      <td>NC</td>\n",
       "    </tr>\n",
       "    <tr>\n",
       "      <th>104</th>\n",
       "      <td>Rifle, CO</td>\n",
       "      <td>CO</td>\n",
       "      <td>CO</td>\n",
       "    </tr>\n",
       "    <tr>\n",
       "      <th>20</th>\n",
       "      <td>Rifle, CO</td>\n",
       "      <td>CO</td>\n",
       "      <td>CO</td>\n",
       "    </tr>\n",
       "    <tr>\n",
       "      <th>72</th>\n",
       "      <td>Saxtons River, Vermont</td>\n",
       "      <td>Vermont</td>\n",
       "      <td>VT</td>\n",
       "    </tr>\n",
       "    <tr>\n",
       "      <th>51</th>\n",
       "      <td>Volga, SD</td>\n",
       "      <td>SD</td>\n",
       "      <td>SD</td>\n",
       "    </tr>\n",
       "    <tr>\n",
       "      <th>74</th>\n",
       "      <td>Speedwell, Tennessee</td>\n",
       "      <td>Tennessee</td>\n",
       "      <td>TN</td>\n",
       "    </tr>\n",
       "    <tr>\n",
       "      <th>52</th>\n",
       "      <td>Nampa, ID</td>\n",
       "      <td>ID</td>\n",
       "      <td>ID</td>\n",
       "    </tr>\n",
       "    <tr>\n",
       "      <th>28</th>\n",
       "      <td>Caddo, Texas</td>\n",
       "      <td>Texas</td>\n",
       "      <td>TX</td>\n",
       "    </tr>\n",
       "    <tr>\n",
       "      <th>32</th>\n",
       "      <td>Aubrey, TX</td>\n",
       "      <td>TX</td>\n",
       "      <td>TX</td>\n",
       "    </tr>\n",
       "    <tr>\n",
       "      <th>80</th>\n",
       "      <td>Rensselaer, NY</td>\n",
       "      <td>NY</td>\n",
       "      <td>NY</td>\n",
       "    </tr>\n",
       "    <tr>\n",
       "      <th>56</th>\n",
       "      <td>Cairo, GA</td>\n",
       "      <td>GA</td>\n",
       "      <td>GA</td>\n",
       "    </tr>\n",
       "    <tr>\n",
       "      <th>110</th>\n",
       "      <td>Mulberry, FL</td>\n",
       "      <td>FL</td>\n",
       "      <td>FL</td>\n",
       "    </tr>\n",
       "    <tr>\n",
       "      <th>21</th>\n",
       "      <td>Volga, SD</td>\n",
       "      <td>SD</td>\n",
       "      <td>SD</td>\n",
       "    </tr>\n",
       "    <tr>\n",
       "      <th>89</th>\n",
       "      <td>Lyons, Georgia</td>\n",
       "      <td>Georgia</td>\n",
       "      <td>GA</td>\n",
       "    </tr>\n",
       "    <tr>\n",
       "      <th>15</th>\n",
       "      <td>Morton, TX</td>\n",
       "      <td>TX</td>\n",
       "      <td>TX</td>\n",
       "    </tr>\n",
       "  </tbody>\n",
       "</table>\n",
       "</div>"
      ],
      "text/plain": [
       "                  City, State           State State_cleaned\n",
       "75                Choteau, MT              MT            MT\n",
       "23              Lakin, Kansas          Kansas            KS\n",
       "39                        NaN             NaN           NaN\n",
       "26                  Miami, FL              FL            FL\n",
       "6               Annabella, UT              UT            UT\n",
       "93   Franklin, North Carolina  North Carolina            NC\n",
       "104                 Rifle, CO              CO            CO\n",
       "20                  Rifle, CO              CO            CO\n",
       "72     Saxtons River, Vermont         Vermont            VT\n",
       "51                  Volga, SD              SD            SD\n",
       "74       Speedwell, Tennessee       Tennessee            TN\n",
       "52                  Nampa, ID              ID            ID\n",
       "28               Caddo, Texas           Texas            TX\n",
       "32                 Aubrey, TX              TX            TX\n",
       "80             Rensselaer, NY              NY            NY\n",
       "56                  Cairo, GA              GA            GA\n",
       "110              Mulberry, FL              FL            FL\n",
       "21                  Volga, SD              SD            SD\n",
       "89             Lyons, Georgia         Georgia            GA\n",
       "15                 Morton, TX              TX            TX"
      ]
     },
     "execution_count": 10,
     "metadata": {},
     "output_type": "execute_result"
    }
   ],
   "source": [
    "## your code here\n",
    "crosswalk_url = 'http://app02.clerk.org/menu/ccis/Help/CCIS%20Codes/state_codes.html'\n",
    "state_crosswalk = pd.read_html(crosswalk_url)[0]\n",
    "state_crosswalk.columns = ['Abbreviation', 'State']\n",
    "\n",
    "def convert_to_abbreviation(state_name):\n",
    "    \"\"\"Convert state name to abbreviation\"\"\"\n",
    "    abbreviation = state_crosswalk[state_crosswalk['State'] == state_name]['Abbreviation'].values\n",
    "    ## return the first element of the array if the abbreviation is successful\n",
    "    if len(abbreviation) > 0:\n",
    "        return abbreviation[0]\n",
    "    else:\n",
    "        return state_name\n",
    "\n",
    "debar['State_cleaned'] = debar['State'].apply(convert_to_abbreviation)\n",
    "\n",
    "## print the cleaned state column and compare it to the original state column\n",
    "debar[['City, State', 'State', 'State_cleaned']].sample(20)"
   ]
  },
  {
   "cell_type": "code",
   "execution_count": 11,
   "metadata": {},
   "outputs": [
    {
     "data": {
      "text/plain": [
       "GA    19\n",
       "TX    18\n",
       "KS    10\n",
       "FL    10\n",
       "ND     6\n",
       "UT     6\n",
       "SD     5\n",
       "KY     5\n",
       "CA     4\n",
       "AR     3\n",
       "NY     3\n",
       "MA     3\n",
       "CO     3\n",
       "LA     3\n",
       "MT     2\n",
       "ID     2\n",
       "OK     2\n",
       "MN     1\n",
       "SC     1\n",
       "VT     1\n",
       "TN     1\n",
       "AK     1\n",
       "MD     1\n",
       "NC     1\n",
       "IL     1\n",
       "ME     1\n",
       "Name: State_cleaned, dtype: int64"
      ]
     },
     "execution_count": 11,
     "metadata": {},
     "output_type": "execute_result"
    }
   ],
   "source": [
    "## count the number of violations for each state on the cleaned state column\n",
    "debar['State_cleaned'].value_counts()"
   ]
  },
  {
   "cell_type": "markdown",
   "metadata": {},
   "source": [
    "## 1.3 Investigate duplicated rows (4 points)\n",
    "\n",
    "A. Create a new column in `debar`, `is_repeated`, that tells us whether an employer (`Name`) is repeated > 1 times.\n",
    "\n",
    "*Hint*: there are multiple ways to solve this but some possibilities to get the list of names that are repeated are:\n",
    "- Using `value_counts()` on the `Name` variable and extracting the index from that value counts \n",
    "- Using groupby to count the rows attached to one name\n",
    "\n",
    "B. Print the rows where `is_repeated == True` and interpret with at least a sentence. If you notice any cases of duplicate business names where 'City, State' does NOT match exactly, check these manually and make them consistent.\n",
    "\n",
    "C. Subset to the rows where `is_repeated == True` and save that data as `mult_debar`. Print the head() and shape"
   ]
  },
  {
   "cell_type": "code",
   "execution_count": 12,
   "metadata": {},
   "outputs": [
    {
     "data": {
      "text/plain": [
       "{'Annabella Land & Cattle',\n",
       " 'Autumn Hill Orchard',\n",
       " 'Caddo Creek Ranch, dba Paradise Ranch',\n",
       " 'Cisco Produce Inc.',\n",
       " 'Dove Creek Farms',\n",
       " 'F&W Farms',\n",
       " 'Loewen Harvesting LLC',\n",
       " 'Macky and Brad Farms',\n",
       " 'Maple Ridge Custom Services, LLC',\n",
       " 'Mark Duncan',\n",
       " 'Old Tree Farms/Verpaalen Custom Service',\n",
       " 'Rollo Farm Labor Contractor',\n",
       " 'SRT Farms',\n",
       " 'Sharon Mathis',\n",
       " 'Turner Farms',\n",
       " 'Xavier Horne'}"
      ]
     },
     "execution_count": 12,
     "metadata": {},
     "output_type": "execute_result"
    }
   ],
   "source": [
    "## your code here\n",
    "employee_count = debar['Name'].value_counts()\n",
    "repeated_employees = set(employee_count[employee_count > 1].index)\n",
    "\n",
    "## create a boolean indicator for repeated employees\n",
    "debar['is_repeated'] = debar.Name.isin(repeated_employees)\n",
    "\n",
    "## print all the repeated employees\n",
    "repeated_employees\n"
   ]
  },
  {
   "cell_type": "code",
   "execution_count": 13,
   "metadata": {},
   "outputs": [
    {
     "data": {
      "text/html": [
       "<div>\n",
       "<style scoped>\n",
       "    .dataframe tbody tr th:only-of-type {\n",
       "        vertical-align: middle;\n",
       "    }\n",
       "\n",
       "    .dataframe tbody tr th {\n",
       "        vertical-align: top;\n",
       "    }\n",
       "\n",
       "    .dataframe thead th {\n",
       "        text-align: right;\n",
       "    }\n",
       "</style>\n",
       "<table border=\"1\" class=\"dataframe\">\n",
       "  <thead>\n",
       "    <tr style=\"text-align: right;\">\n",
       "      <th></th>\n",
       "      <th>Name</th>\n",
       "      <th>City, State</th>\n",
       "      <th>Violation</th>\n",
       "      <th>Duration</th>\n",
       "      <th>Start date</th>\n",
       "      <th>End date</th>\n",
       "      <th>violation_number</th>\n",
       "      <th>State</th>\n",
       "      <th>State_long_indicator</th>\n",
       "      <th>State_cleaned</th>\n",
       "      <th>is_repeated</th>\n",
       "    </tr>\n",
       "  </thead>\n",
       "  <tbody>\n",
       "    <tr>\n",
       "      <th>6</th>\n",
       "      <td>Annabella Land &amp; Cattle</td>\n",
       "      <td>Annabella, UT</td>\n",
       "      <td>Non Payment</td>\n",
       "      <td>1 year</td>\n",
       "      <td>5/9/2014</td>\n",
       "      <td>5/9/2015</td>\n",
       "      <td>viol1</td>\n",
       "      <td>UT</td>\n",
       "      <td>False</td>\n",
       "      <td>UT</td>\n",
       "      <td>True</td>\n",
       "    </tr>\n",
       "    <tr>\n",
       "      <th>30</th>\n",
       "      <td>Annabella Land &amp; Cattle</td>\n",
       "      <td>Annabella, Utah</td>\n",
       "      <td>Non-payment</td>\n",
       "      <td>1 year</td>\n",
       "      <td>5/9/2014</td>\n",
       "      <td>5/8/2015</td>\n",
       "      <td>viol2</td>\n",
       "      <td>Utah</td>\n",
       "      <td>True</td>\n",
       "      <td>UT</td>\n",
       "      <td>True</td>\n",
       "    </tr>\n",
       "    <tr>\n",
       "      <th>29</th>\n",
       "      <td>Autumn Hill Orchard</td>\n",
       "      <td>Groton, MA</td>\n",
       "      <td>Impeding the Audit Process – Non- Response</td>\n",
       "      <td>2 years</td>\n",
       "      <td>7/6/2014</td>\n",
       "      <td>7/5/2016</td>\n",
       "      <td>viol2</td>\n",
       "      <td>MA</td>\n",
       "      <td>False</td>\n",
       "      <td>MA</td>\n",
       "      <td>True</td>\n",
       "    </tr>\n",
       "    <tr>\n",
       "      <th>7</th>\n",
       "      <td>Autumn Hill Orchard</td>\n",
       "      <td>Groton, MA</td>\n",
       "      <td>Failure to respond to audit (no response)</td>\n",
       "      <td>2 years</td>\n",
       "      <td>7/6/2014</td>\n",
       "      <td>7/5/2016</td>\n",
       "      <td>viol1</td>\n",
       "      <td>MA</td>\n",
       "      <td>False</td>\n",
       "      <td>MA</td>\n",
       "      <td>True</td>\n",
       "    </tr>\n",
       "    <tr>\n",
       "      <th>8</th>\n",
       "      <td>Caddo Creek Ranch, dba Paradise Ranch</td>\n",
       "      <td>Caddo, TX</td>\n",
       "      <td>Failure to respond to audit (partial response)</td>\n",
       "      <td>2 years</td>\n",
       "      <td>7/20/2014</td>\n",
       "      <td>7/19/2016</td>\n",
       "      <td>viol1</td>\n",
       "      <td>TX</td>\n",
       "      <td>False</td>\n",
       "      <td>TX</td>\n",
       "      <td>True</td>\n",
       "    </tr>\n",
       "    <tr>\n",
       "      <th>28</th>\n",
       "      <td>Caddo Creek Ranch, dba Paradise Ranch</td>\n",
       "      <td>Caddo, Texas</td>\n",
       "      <td>Impeding the Audit Process – Partial- Response</td>\n",
       "      <td>2 years</td>\n",
       "      <td>7/20/2014</td>\n",
       "      <td>7/19/2016</td>\n",
       "      <td>viol2</td>\n",
       "      <td>Texas</td>\n",
       "      <td>True</td>\n",
       "      <td>TX</td>\n",
       "      <td>True</td>\n",
       "    </tr>\n",
       "    <tr>\n",
       "      <th>56</th>\n",
       "      <td>Cisco Produce Inc.</td>\n",
       "      <td>Cairo, GA</td>\n",
       "      <td>Impeding the Audit Process – Non- Response</td>\n",
       "      <td>2 years</td>\n",
       "      <td>12/10/2015</td>\n",
       "      <td>12/9/2017</td>\n",
       "      <td>viol2</td>\n",
       "      <td>GA</td>\n",
       "      <td>False</td>\n",
       "      <td>GA</td>\n",
       "      <td>True</td>\n",
       "    </tr>\n",
       "    <tr>\n",
       "      <th>19</th>\n",
       "      <td>Cisco Produce Inc.</td>\n",
       "      <td>Cairo, GA</td>\n",
       "      <td>Failure to respond to audit (no response)</td>\n",
       "      <td>2 years</td>\n",
       "      <td>12/10/2014</td>\n",
       "      <td>12/9/2016</td>\n",
       "      <td>viol1</td>\n",
       "      <td>GA</td>\n",
       "      <td>False</td>\n",
       "      <td>GA</td>\n",
       "      <td>True</td>\n",
       "    </tr>\n",
       "    <tr>\n",
       "      <th>103</th>\n",
       "      <td>Dove Creek Farms</td>\n",
       "      <td>Mount Vernon, TX</td>\n",
       "      <td>Failure to respond to audit request</td>\n",
       "      <td>2 years</td>\n",
       "      <td>2/9/2018</td>\n",
       "      <td>2/8/2018</td>\n",
       "      <td>viol1</td>\n",
       "      <td>TX</td>\n",
       "      <td>False</td>\n",
       "      <td>TX</td>\n",
       "      <td>True</td>\n",
       "    </tr>\n",
       "    <tr>\n",
       "      <th>109</th>\n",
       "      <td>Dove Creek Farms</td>\n",
       "      <td>Mount Vernon, TX</td>\n",
       "      <td>Failure to Respond to Audit Request</td>\n",
       "      <td>2 years</td>\n",
       "      <td>2/9/2018</td>\n",
       "      <td>2/8/2020</td>\n",
       "      <td>viol2</td>\n",
       "      <td>TX</td>\n",
       "      <td>False</td>\n",
       "      <td>TX</td>\n",
       "      <td>True</td>\n",
       "    </tr>\n",
       "    <tr>\n",
       "      <th>58</th>\n",
       "      <td>F&amp;W Farms</td>\n",
       "      <td>Ingalls, KS</td>\n",
       "      <td>Impeding the Audit Process – Partial- Response</td>\n",
       "      <td>1 year</td>\n",
       "      <td>12/10/2014</td>\n",
       "      <td>12/9/2015</td>\n",
       "      <td>viol2</td>\n",
       "      <td>KS</td>\n",
       "      <td>False</td>\n",
       "      <td>KS</td>\n",
       "      <td>True</td>\n",
       "    </tr>\n",
       "    <tr>\n",
       "      <th>18</th>\n",
       "      <td>F&amp;W Farms</td>\n",
       "      <td>Ingalls, KS</td>\n",
       "      <td>Failure to respond to audit (partial response)</td>\n",
       "      <td>2 years</td>\n",
       "      <td>12/10/2014</td>\n",
       "      <td>12/9/2016</td>\n",
       "      <td>viol1</td>\n",
       "      <td>KS</td>\n",
       "      <td>False</td>\n",
       "      <td>KS</td>\n",
       "      <td>True</td>\n",
       "    </tr>\n",
       "    <tr>\n",
       "      <th>11</th>\n",
       "      <td>Loewen Harvesting LLC</td>\n",
       "      <td>Brownsville, TX</td>\n",
       "      <td>Failure to respond to audit (partial response)</td>\n",
       "      <td>1 year</td>\n",
       "      <td>8/20/2014</td>\n",
       "      <td>8/19/2015</td>\n",
       "      <td>viol1</td>\n",
       "      <td>TX</td>\n",
       "      <td>False</td>\n",
       "      <td>TX</td>\n",
       "      <td>True</td>\n",
       "    </tr>\n",
       "    <tr>\n",
       "      <th>25</th>\n",
       "      <td>Loewen Harvesting LLC</td>\n",
       "      <td>Brownfield, TX</td>\n",
       "      <td>Impeding the Audit Process – Partial- Response</td>\n",
       "      <td>1 year</td>\n",
       "      <td>8/20/2014</td>\n",
       "      <td>8/19/2015</td>\n",
       "      <td>viol2</td>\n",
       "      <td>TX</td>\n",
       "      <td>False</td>\n",
       "      <td>TX</td>\n",
       "      <td>True</td>\n",
       "    </tr>\n",
       "    <tr>\n",
       "      <th>55</th>\n",
       "      <td>Macky and Brad Farms</td>\n",
       "      <td>Plains, TX</td>\n",
       "      <td>Impeding the Audit Process – Partial- Response</td>\n",
       "      <td>1 year</td>\n",
       "      <td>2/13/2015</td>\n",
       "      <td>2/12/2016</td>\n",
       "      <td>viol2</td>\n",
       "      <td>TX</td>\n",
       "      <td>False</td>\n",
       "      <td>TX</td>\n",
       "      <td>True</td>\n",
       "    </tr>\n",
       "    <tr>\n",
       "      <th>31</th>\n",
       "      <td>Macky and Brad Farms</td>\n",
       "      <td>Plains, TX</td>\n",
       "      <td>Failure to respond to audit (no response)</td>\n",
       "      <td>1 year</td>\n",
       "      <td>2/13/2015</td>\n",
       "      <td>2/12/2016</td>\n",
       "      <td>viol1</td>\n",
       "      <td>TX</td>\n",
       "      <td>False</td>\n",
       "      <td>TX</td>\n",
       "      <td>True</td>\n",
       "    </tr>\n",
       "    <tr>\n",
       "      <th>17</th>\n",
       "      <td>Maple Ridge Custom Services, LLC</td>\n",
       "      <td>Altheimer, AK</td>\n",
       "      <td>Failure to respond to audit (partial response)</td>\n",
       "      <td>2 years</td>\n",
       "      <td>11/16/2014</td>\n",
       "      <td>11/15/2016</td>\n",
       "      <td>viol1</td>\n",
       "      <td>AK</td>\n",
       "      <td>False</td>\n",
       "      <td>AK</td>\n",
       "      <td>True</td>\n",
       "    </tr>\n",
       "    <tr>\n",
       "      <th>59</th>\n",
       "      <td>Maple Ridge Custom Services, LLC</td>\n",
       "      <td>Altheimer, AR</td>\n",
       "      <td>Impeding the Audit Process – Partial- Response</td>\n",
       "      <td>1 year</td>\n",
       "      <td>11/16/2014</td>\n",
       "      <td>11/15/2015</td>\n",
       "      <td>viol2</td>\n",
       "      <td>AR</td>\n",
       "      <td>False</td>\n",
       "      <td>AR</td>\n",
       "      <td>True</td>\n",
       "    </tr>\n",
       "    <tr>\n",
       "      <th>16</th>\n",
       "      <td>Mark Duncan</td>\n",
       "      <td>Roosevelt, UT</td>\n",
       "      <td>Failure to respond to audit (no response)</td>\n",
       "      <td>2 years</td>\n",
       "      <td>11/16/2014</td>\n",
       "      <td>11/15/2016</td>\n",
       "      <td>viol1</td>\n",
       "      <td>UT</td>\n",
       "      <td>False</td>\n",
       "      <td>UT</td>\n",
       "      <td>True</td>\n",
       "    </tr>\n",
       "    <tr>\n",
       "      <th>60</th>\n",
       "      <td>Mark Duncan</td>\n",
       "      <td>Roosevelt, UT</td>\n",
       "      <td>Impeding the Audit Process – Non- Response</td>\n",
       "      <td>2 years</td>\n",
       "      <td>11/16/2014</td>\n",
       "      <td>11/15/2016</td>\n",
       "      <td>viol2</td>\n",
       "      <td>UT</td>\n",
       "      <td>False</td>\n",
       "      <td>UT</td>\n",
       "      <td>True</td>\n",
       "    </tr>\n",
       "    <tr>\n",
       "      <th>21</th>\n",
       "      <td>Old Tree Farms/Verpaalen Custom Service</td>\n",
       "      <td>Volga, SD</td>\n",
       "      <td>WHD Debarment</td>\n",
       "      <td>3 years</td>\n",
       "      <td>12/11/2014</td>\n",
       "      <td>12/10/2017</td>\n",
       "      <td>viol1</td>\n",
       "      <td>SD</td>\n",
       "      <td>False</td>\n",
       "      <td>SD</td>\n",
       "      <td>True</td>\n",
       "    </tr>\n",
       "    <tr>\n",
       "      <th>51</th>\n",
       "      <td>Old Tree Farms/Verpaalen Custom Service</td>\n",
       "      <td>Volga, SD</td>\n",
       "      <td>Wage Hour Debarment</td>\n",
       "      <td>3 years</td>\n",
       "      <td>12/1/2014</td>\n",
       "      <td>12/1/2017</td>\n",
       "      <td>viol2</td>\n",
       "      <td>SD</td>\n",
       "      <td>False</td>\n",
       "      <td>SD</td>\n",
       "      <td>True</td>\n",
       "    </tr>\n",
       "    <tr>\n",
       "      <th>12</th>\n",
       "      <td>Rollo Farm Labor Contractor</td>\n",
       "      <td>Miami, FL</td>\n",
       "      <td>Failure to respond to audit (no response)</td>\n",
       "      <td>2 years</td>\n",
       "      <td>8/23/2014</td>\n",
       "      <td>8/22/2016</td>\n",
       "      <td>viol1</td>\n",
       "      <td>FL</td>\n",
       "      <td>False</td>\n",
       "      <td>FL</td>\n",
       "      <td>True</td>\n",
       "    </tr>\n",
       "    <tr>\n",
       "      <th>24</th>\n",
       "      <td>Rollo Farm Labor Contractor</td>\n",
       "      <td>Miami, FL</td>\n",
       "      <td>Impeding the Audit Process – Non- Response</td>\n",
       "      <td>2 years</td>\n",
       "      <td>8/23/2014</td>\n",
       "      <td>8/22/2016</td>\n",
       "      <td>viol2</td>\n",
       "      <td>FL</td>\n",
       "      <td>False</td>\n",
       "      <td>FL</td>\n",
       "      <td>True</td>\n",
       "    </tr>\n",
       "    <tr>\n",
       "      <th>15</th>\n",
       "      <td>SRT Farms</td>\n",
       "      <td>Morton, TX</td>\n",
       "      <td>Failure to respond to audit (no response)</td>\n",
       "      <td>2 years</td>\n",
       "      <td>11/16/2014</td>\n",
       "      <td>11/15/2016</td>\n",
       "      <td>viol1</td>\n",
       "      <td>TX</td>\n",
       "      <td>False</td>\n",
       "      <td>TX</td>\n",
       "      <td>True</td>\n",
       "    </tr>\n",
       "    <tr>\n",
       "      <th>61</th>\n",
       "      <td>SRT Farms</td>\n",
       "      <td>Morton, TX</td>\n",
       "      <td>Impeding the Audit Process – Non- Response</td>\n",
       "      <td>2 years</td>\n",
       "      <td>11/16/2014</td>\n",
       "      <td>11/15/2016</td>\n",
       "      <td>viol2</td>\n",
       "      <td>TX</td>\n",
       "      <td>False</td>\n",
       "      <td>TX</td>\n",
       "      <td>True</td>\n",
       "    </tr>\n",
       "    <tr>\n",
       "      <th>14</th>\n",
       "      <td>Sharon Mathis</td>\n",
       "      <td>Tifton, GA</td>\n",
       "      <td>Failure to respond to audit (no response)</td>\n",
       "      <td>2 years</td>\n",
       "      <td>11/16/2014</td>\n",
       "      <td>11/15/2016</td>\n",
       "      <td>viol1</td>\n",
       "      <td>GA</td>\n",
       "      <td>False</td>\n",
       "      <td>GA</td>\n",
       "      <td>True</td>\n",
       "    </tr>\n",
       "    <tr>\n",
       "      <th>62</th>\n",
       "      <td>Sharon Mathis</td>\n",
       "      <td>Tifton, GA</td>\n",
       "      <td>Impeding the Audit Process – Non- Response</td>\n",
       "      <td>2 years</td>\n",
       "      <td>11/16/2014</td>\n",
       "      <td>11/15/2016</td>\n",
       "      <td>viol2</td>\n",
       "      <td>GA</td>\n",
       "      <td>False</td>\n",
       "      <td>GA</td>\n",
       "      <td>True</td>\n",
       "    </tr>\n",
       "    <tr>\n",
       "      <th>106</th>\n",
       "      <td>Turner Farms</td>\n",
       "      <td>Healy, KS</td>\n",
       "      <td>Failure to comply with the employer's obligati...</td>\n",
       "      <td>6 months</td>\n",
       "      <td>7/17/19</td>\n",
       "      <td>2/10/2020</td>\n",
       "      <td>viol1</td>\n",
       "      <td>KS</td>\n",
       "      <td>False</td>\n",
       "      <td>KS</td>\n",
       "      <td>True</td>\n",
       "    </tr>\n",
       "    <tr>\n",
       "      <th>111</th>\n",
       "      <td>Turner Farms</td>\n",
       "      <td>Healy, KS</td>\n",
       "      <td>Failure to comply with the employer's obligati...</td>\n",
       "      <td>7 months</td>\n",
       "      <td>7/17/19</td>\n",
       "      <td>2/10/20</td>\n",
       "      <td>viol2</td>\n",
       "      <td>KS</td>\n",
       "      <td>False</td>\n",
       "      <td>KS</td>\n",
       "      <td>True</td>\n",
       "    </tr>\n",
       "    <tr>\n",
       "      <th>73</th>\n",
       "      <td>Xavier Horne</td>\n",
       "      <td>Lyons, Georgia</td>\n",
       "      <td>Non-payment of certification fee</td>\n",
       "      <td>1 year</td>\n",
       "      <td>6/16/2016</td>\n",
       "      <td>6/15/2017</td>\n",
       "      <td>viol1</td>\n",
       "      <td>Georgia</td>\n",
       "      <td>True</td>\n",
       "      <td>GA</td>\n",
       "      <td>True</td>\n",
       "    </tr>\n",
       "    <tr>\n",
       "      <th>89</th>\n",
       "      <td>Xavier Horne</td>\n",
       "      <td>Lyons, Georgia</td>\n",
       "      <td>Failure to respond to audit request</td>\n",
       "      <td>2 years</td>\n",
       "      <td>9/27/2017</td>\n",
       "      <td>9/26/2019</td>\n",
       "      <td>viol2</td>\n",
       "      <td>Georgia</td>\n",
       "      <td>True</td>\n",
       "      <td>GA</td>\n",
       "      <td>True</td>\n",
       "    </tr>\n",
       "  </tbody>\n",
       "</table>\n",
       "</div>"
      ],
      "text/plain": [
       "                                        Name       City, State  \\\n",
       "6                    Annabella Land & Cattle     Annabella, UT   \n",
       "30                   Annabella Land & Cattle   Annabella, Utah   \n",
       "29                       Autumn Hill Orchard        Groton, MA   \n",
       "7                        Autumn Hill Orchard        Groton, MA   \n",
       "8      Caddo Creek Ranch, dba Paradise Ranch         Caddo, TX   \n",
       "28     Caddo Creek Ranch, dba Paradise Ranch      Caddo, Texas   \n",
       "56                        Cisco Produce Inc.         Cairo, GA   \n",
       "19                        Cisco Produce Inc.         Cairo, GA   \n",
       "103                         Dove Creek Farms  Mount Vernon, TX   \n",
       "109                         Dove Creek Farms  Mount Vernon, TX   \n",
       "58                                 F&W Farms       Ingalls, KS   \n",
       "18                                 F&W Farms       Ingalls, KS   \n",
       "11                     Loewen Harvesting LLC   Brownsville, TX   \n",
       "25                     Loewen Harvesting LLC    Brownfield, TX   \n",
       "55                      Macky and Brad Farms        Plains, TX   \n",
       "31                      Macky and Brad Farms        Plains, TX   \n",
       "17          Maple Ridge Custom Services, LLC     Altheimer, AK   \n",
       "59          Maple Ridge Custom Services, LLC     Altheimer, AR   \n",
       "16                               Mark Duncan     Roosevelt, UT   \n",
       "60                               Mark Duncan     Roosevelt, UT   \n",
       "21   Old Tree Farms/Verpaalen Custom Service         Volga, SD   \n",
       "51   Old Tree Farms/Verpaalen Custom Service         Volga, SD   \n",
       "12               Rollo Farm Labor Contractor         Miami, FL   \n",
       "24               Rollo Farm Labor Contractor         Miami, FL   \n",
       "15                                 SRT Farms        Morton, TX   \n",
       "61                                 SRT Farms        Morton, TX   \n",
       "14                             Sharon Mathis        Tifton, GA   \n",
       "62                             Sharon Mathis        Tifton, GA   \n",
       "106                             Turner Farms         Healy, KS   \n",
       "111                             Turner Farms         Healy, KS   \n",
       "73                              Xavier Horne    Lyons, Georgia   \n",
       "89                              Xavier Horne    Lyons, Georgia   \n",
       "\n",
       "                                             Violation  Duration  Start date  \\\n",
       "6                                          Non Payment    1 year    5/9/2014   \n",
       "30                                         Non-payment    1 year    5/9/2014   \n",
       "29          Impeding the Audit Process – Non- Response   2 years    7/6/2014   \n",
       "7            Failure to respond to audit (no response)   2 years    7/6/2014   \n",
       "8       Failure to respond to audit (partial response)   2 years   7/20/2014   \n",
       "28      Impeding the Audit Process – Partial- Response   2 years   7/20/2014   \n",
       "56          Impeding the Audit Process – Non- Response   2 years  12/10/2015   \n",
       "19           Failure to respond to audit (no response)   2 years  12/10/2014   \n",
       "103                Failure to respond to audit request   2 years    2/9/2018   \n",
       "109                Failure to Respond to Audit Request   2 years    2/9/2018   \n",
       "58      Impeding the Audit Process – Partial- Response    1 year  12/10/2014   \n",
       "18      Failure to respond to audit (partial response)   2 years  12/10/2014   \n",
       "11      Failure to respond to audit (partial response)    1 year   8/20/2014   \n",
       "25      Impeding the Audit Process – Partial- Response    1 year   8/20/2014   \n",
       "55      Impeding the Audit Process – Partial- Response    1 year   2/13/2015   \n",
       "31           Failure to respond to audit (no response)    1 year   2/13/2015   \n",
       "17      Failure to respond to audit (partial response)   2 years  11/16/2014   \n",
       "59      Impeding the Audit Process – Partial- Response    1 year  11/16/2014   \n",
       "16           Failure to respond to audit (no response)   2 years  11/16/2014   \n",
       "60          Impeding the Audit Process – Non- Response   2 years  11/16/2014   \n",
       "21                                       WHD Debarment   3 years  12/11/2014   \n",
       "51                                 Wage Hour Debarment   3 years   12/1/2014   \n",
       "12           Failure to respond to audit (no response)   2 years   8/23/2014   \n",
       "24          Impeding the Audit Process – Non- Response   2 years   8/23/2014   \n",
       "15           Failure to respond to audit (no response)   2 years  11/16/2014   \n",
       "61          Impeding the Audit Process – Non- Response   2 years  11/16/2014   \n",
       "14           Failure to respond to audit (no response)   2 years  11/16/2014   \n",
       "62          Impeding the Audit Process – Non- Response   2 years  11/16/2014   \n",
       "106  Failure to comply with the employer's obligati...  6 months     7/17/19   \n",
       "111  Failure to comply with the employer's obligati...  7 months     7/17/19   \n",
       "73                    Non-payment of certification fee    1 year   6/16/2016   \n",
       "89                 Failure to respond to audit request   2 years   9/27/2017   \n",
       "\n",
       "       End date violation_number    State  State_long_indicator State_cleaned  \\\n",
       "6      5/9/2015            viol1       UT                 False            UT   \n",
       "30     5/8/2015            viol2     Utah                  True            UT   \n",
       "29     7/5/2016            viol2       MA                 False            MA   \n",
       "7      7/5/2016            viol1       MA                 False            MA   \n",
       "8     7/19/2016            viol1       TX                 False            TX   \n",
       "28    7/19/2016            viol2    Texas                  True            TX   \n",
       "56    12/9/2017            viol2       GA                 False            GA   \n",
       "19    12/9/2016            viol1       GA                 False            GA   \n",
       "103    2/8/2018            viol1       TX                 False            TX   \n",
       "109    2/8/2020            viol2       TX                 False            TX   \n",
       "58    12/9/2015            viol2       KS                 False            KS   \n",
       "18    12/9/2016            viol1       KS                 False            KS   \n",
       "11    8/19/2015            viol1       TX                 False            TX   \n",
       "25    8/19/2015            viol2       TX                 False            TX   \n",
       "55    2/12/2016            viol2       TX                 False            TX   \n",
       "31    2/12/2016            viol1       TX                 False            TX   \n",
       "17   11/15/2016            viol1       AK                 False            AK   \n",
       "59   11/15/2015            viol2       AR                 False            AR   \n",
       "16   11/15/2016            viol1       UT                 False            UT   \n",
       "60   11/15/2016            viol2       UT                 False            UT   \n",
       "21   12/10/2017            viol1       SD                 False            SD   \n",
       "51    12/1/2017            viol2       SD                 False            SD   \n",
       "12    8/22/2016            viol1       FL                 False            FL   \n",
       "24    8/22/2016            viol2       FL                 False            FL   \n",
       "15   11/15/2016            viol1       TX                 False            TX   \n",
       "61   11/15/2016            viol2       TX                 False            TX   \n",
       "14   11/15/2016            viol1       GA                 False            GA   \n",
       "62   11/15/2016            viol2       GA                 False            GA   \n",
       "106   2/10/2020            viol1       KS                 False            KS   \n",
       "111     2/10/20            viol2       KS                 False            KS   \n",
       "73    6/15/2017            viol1  Georgia                  True            GA   \n",
       "89    9/26/2019            viol2  Georgia                  True            GA   \n",
       "\n",
       "     is_repeated  \n",
       "6           True  \n",
       "30          True  \n",
       "29          True  \n",
       "7           True  \n",
       "8           True  \n",
       "28          True  \n",
       "56          True  \n",
       "19          True  \n",
       "103         True  \n",
       "109         True  \n",
       "58          True  \n",
       "18          True  \n",
       "11          True  \n",
       "25          True  \n",
       "55          True  \n",
       "31          True  \n",
       "17          True  \n",
       "59          True  \n",
       "16          True  \n",
       "60          True  \n",
       "21          True  \n",
       "51          True  \n",
       "12          True  \n",
       "24          True  \n",
       "15          True  \n",
       "61          True  \n",
       "14          True  \n",
       "62          True  \n",
       "106         True  \n",
       "111         True  \n",
       "73          True  \n",
       "89          True  "
      ]
     },
     "execution_count": 13,
     "metadata": {},
     "output_type": "execute_result"
    }
   ],
   "source": [
    "## print the rows where is_repeated is True\n",
    "debar[debar.is_repeated == True].sort_values('Name')"
   ]
  },
  {
   "attachments": {},
   "cell_type": "markdown",
   "metadata": {},
   "source": [
    "We noticed that for 'Maple Ridge Custom Services, LLC' the states for the two entries are not the same. It says `Altheimer, AK` for the first and `Altheimer, AR` for the second. It seems like the person made a mistake while entering the data to the database. Since, `Altheimer` is a city in Arkansas(AK), we are going to perform data cleaning manually."
   ]
  },
  {
   "cell_type": "code",
   "execution_count": 14,
   "metadata": {},
   "outputs": [
    {
     "data": {
      "text/html": [
       "<div>\n",
       "<style scoped>\n",
       "    .dataframe tbody tr th:only-of-type {\n",
       "        vertical-align: middle;\n",
       "    }\n",
       "\n",
       "    .dataframe tbody tr th {\n",
       "        vertical-align: top;\n",
       "    }\n",
       "\n",
       "    .dataframe thead th {\n",
       "        text-align: right;\n",
       "    }\n",
       "</style>\n",
       "<table border=\"1\" class=\"dataframe\">\n",
       "  <thead>\n",
       "    <tr style=\"text-align: right;\">\n",
       "      <th></th>\n",
       "      <th>Name</th>\n",
       "      <th>City, State</th>\n",
       "      <th>Violation</th>\n",
       "      <th>Duration</th>\n",
       "      <th>Start date</th>\n",
       "      <th>End date</th>\n",
       "      <th>violation_number</th>\n",
       "      <th>State</th>\n",
       "      <th>State_long_indicator</th>\n",
       "      <th>State_cleaned</th>\n",
       "      <th>is_repeated</th>\n",
       "    </tr>\n",
       "  </thead>\n",
       "  <tbody>\n",
       "    <tr>\n",
       "      <th>17</th>\n",
       "      <td>Maple Ridge Custom Services, LLC</td>\n",
       "      <td>Altheimer, AR</td>\n",
       "      <td>Failure to respond to audit (partial response)</td>\n",
       "      <td>2 years</td>\n",
       "      <td>11/16/2014</td>\n",
       "      <td>11/15/2016</td>\n",
       "      <td>viol1</td>\n",
       "      <td>AR</td>\n",
       "      <td>False</td>\n",
       "      <td>AR</td>\n",
       "      <td>True</td>\n",
       "    </tr>\n",
       "    <tr>\n",
       "      <th>59</th>\n",
       "      <td>Maple Ridge Custom Services, LLC</td>\n",
       "      <td>Altheimer, AR</td>\n",
       "      <td>Impeding the Audit Process – Partial- Response</td>\n",
       "      <td>1 year</td>\n",
       "      <td>11/16/2014</td>\n",
       "      <td>11/15/2015</td>\n",
       "      <td>viol2</td>\n",
       "      <td>AR</td>\n",
       "      <td>False</td>\n",
       "      <td>AR</td>\n",
       "      <td>True</td>\n",
       "    </tr>\n",
       "  </tbody>\n",
       "</table>\n",
       "</div>"
      ],
      "text/plain": [
       "                                Name    City, State  \\\n",
       "17  Maple Ridge Custom Services, LLC  Altheimer, AR   \n",
       "59  Maple Ridge Custom Services, LLC  Altheimer, AR   \n",
       "\n",
       "                                         Violation Duration  Start date  \\\n",
       "17  Failure to respond to audit (partial response)  2 years  11/16/2014   \n",
       "59  Impeding the Audit Process – Partial- Response   1 year  11/16/2014   \n",
       "\n",
       "      End date violation_number State  State_long_indicator State_cleaned  \\\n",
       "17  11/15/2016            viol1    AR                 False            AR   \n",
       "59  11/15/2015            viol2    AR                 False            AR   \n",
       "\n",
       "    is_repeated  \n",
       "17         True  \n",
       "59         True  "
      ]
     },
     "execution_count": 14,
     "metadata": {},
     "output_type": "execute_result"
    },
    {
     "data": {
      "text/html": [
       "<div>\n",
       "<style scoped>\n",
       "    .dataframe tbody tr th:only-of-type {\n",
       "        vertical-align: middle;\n",
       "    }\n",
       "\n",
       "    .dataframe tbody tr th {\n",
       "        vertical-align: top;\n",
       "    }\n",
       "\n",
       "    .dataframe thead th {\n",
       "        text-align: right;\n",
       "    }\n",
       "</style>\n",
       "<table border=\"1\" class=\"dataframe\">\n",
       "  <thead>\n",
       "    <tr style=\"text-align: right;\">\n",
       "      <th></th>\n",
       "      <th>Name</th>\n",
       "      <th>City, State</th>\n",
       "      <th>Violation</th>\n",
       "      <th>Duration</th>\n",
       "      <th>Start date</th>\n",
       "      <th>End date</th>\n",
       "      <th>violation_number</th>\n",
       "      <th>State</th>\n",
       "      <th>State_long_indicator</th>\n",
       "      <th>State_cleaned</th>\n",
       "      <th>is_repeated</th>\n",
       "    </tr>\n",
       "  </thead>\n",
       "  <tbody>\n",
       "    <tr>\n",
       "      <th>11</th>\n",
       "      <td>Loewen Harvesting LLC</td>\n",
       "      <td>Brownsville, TX</td>\n",
       "      <td>Failure to respond to audit (partial response)</td>\n",
       "      <td>1 year</td>\n",
       "      <td>8/20/2014</td>\n",
       "      <td>8/19/2015</td>\n",
       "      <td>viol1</td>\n",
       "      <td>TX</td>\n",
       "      <td>False</td>\n",
       "      <td>TX</td>\n",
       "      <td>True</td>\n",
       "    </tr>\n",
       "    <tr>\n",
       "      <th>25</th>\n",
       "      <td>Loewen Harvesting LLC</td>\n",
       "      <td>Brownsville, TX</td>\n",
       "      <td>Impeding the Audit Process – Partial- Response</td>\n",
       "      <td>1 year</td>\n",
       "      <td>8/20/2014</td>\n",
       "      <td>8/19/2015</td>\n",
       "      <td>viol2</td>\n",
       "      <td>TX</td>\n",
       "      <td>False</td>\n",
       "      <td>TX</td>\n",
       "      <td>True</td>\n",
       "    </tr>\n",
       "  </tbody>\n",
       "</table>\n",
       "</div>"
      ],
      "text/plain": [
       "                     Name      City, State  \\\n",
       "11  Loewen Harvesting LLC  Brownsville, TX   \n",
       "25  Loewen Harvesting LLC  Brownsville, TX   \n",
       "\n",
       "                                         Violation Duration Start date  \\\n",
       "11  Failure to respond to audit (partial response)   1 year  8/20/2014   \n",
       "25  Impeding the Audit Process – Partial- Response   1 year  8/20/2014   \n",
       "\n",
       "     End date violation_number State  State_long_indicator State_cleaned  \\\n",
       "11  8/19/2015            viol1    TX                 False            TX   \n",
       "25  8/19/2015            viol2    TX                 False            TX   \n",
       "\n",
       "    is_repeated  \n",
       "11         True  \n",
       "25         True  "
      ]
     },
     "execution_count": 14,
     "metadata": {},
     "output_type": "execute_result"
    }
   ],
   "source": [
    "## edit the state name manually and print the edited rows\n",
    "debar.loc[debar.Name == \"Maple Ridge Custom Services, LLC\", ['City, State', 'State', 'State_cleaned']] = [\"Altheimer, AR\", \"AR\", \"AR\"]\n",
    "debar.loc[debar.Name == \"Maple Ridge Custom Services, LLC\", ]\n",
    "\n",
    "## edit the city name for Loewen Harvesting LLC\n",
    "debar.loc[debar.Name == \"Loewen Harvesting LLC\", 'City, State'] = \"Brownsville, TX\"\n",
    "debar.loc[debar.Name == \"Loewen Harvesting LLC\", ]"
   ]
  },
  {
   "cell_type": "code",
   "execution_count": 15,
   "metadata": {},
   "outputs": [
    {
     "data": {
      "text/html": [
       "<div>\n",
       "<style scoped>\n",
       "    .dataframe tbody tr th:only-of-type {\n",
       "        vertical-align: middle;\n",
       "    }\n",
       "\n",
       "    .dataframe tbody tr th {\n",
       "        vertical-align: top;\n",
       "    }\n",
       "\n",
       "    .dataframe thead th {\n",
       "        text-align: right;\n",
       "    }\n",
       "</style>\n",
       "<table border=\"1\" class=\"dataframe\">\n",
       "  <thead>\n",
       "    <tr style=\"text-align: right;\">\n",
       "      <th></th>\n",
       "      <th>Name</th>\n",
       "      <th>City, State</th>\n",
       "      <th>Violation</th>\n",
       "      <th>Duration</th>\n",
       "      <th>Start date</th>\n",
       "      <th>End date</th>\n",
       "      <th>violation_number</th>\n",
       "      <th>State</th>\n",
       "      <th>State_long_indicator</th>\n",
       "      <th>State_cleaned</th>\n",
       "      <th>is_repeated</th>\n",
       "    </tr>\n",
       "  </thead>\n",
       "  <tbody>\n",
       "    <tr>\n",
       "      <th>6</th>\n",
       "      <td>Annabella Land &amp; Cattle</td>\n",
       "      <td>Annabella, UT</td>\n",
       "      <td>Non Payment</td>\n",
       "      <td>1 year</td>\n",
       "      <td>5/9/2014</td>\n",
       "      <td>5/9/2015</td>\n",
       "      <td>viol1</td>\n",
       "      <td>UT</td>\n",
       "      <td>False</td>\n",
       "      <td>UT</td>\n",
       "      <td>True</td>\n",
       "    </tr>\n",
       "    <tr>\n",
       "      <th>7</th>\n",
       "      <td>Autumn Hill Orchard</td>\n",
       "      <td>Groton, MA</td>\n",
       "      <td>Failure to respond to audit (no response)</td>\n",
       "      <td>2 years</td>\n",
       "      <td>7/6/2014</td>\n",
       "      <td>7/5/2016</td>\n",
       "      <td>viol1</td>\n",
       "      <td>MA</td>\n",
       "      <td>False</td>\n",
       "      <td>MA</td>\n",
       "      <td>True</td>\n",
       "    </tr>\n",
       "    <tr>\n",
       "      <th>8</th>\n",
       "      <td>Caddo Creek Ranch, dba Paradise Ranch</td>\n",
       "      <td>Caddo, TX</td>\n",
       "      <td>Failure to respond to audit (partial response)</td>\n",
       "      <td>2 years</td>\n",
       "      <td>7/20/2014</td>\n",
       "      <td>7/19/2016</td>\n",
       "      <td>viol1</td>\n",
       "      <td>TX</td>\n",
       "      <td>False</td>\n",
       "      <td>TX</td>\n",
       "      <td>True</td>\n",
       "    </tr>\n",
       "    <tr>\n",
       "      <th>11</th>\n",
       "      <td>Loewen Harvesting LLC</td>\n",
       "      <td>Brownsville, TX</td>\n",
       "      <td>Failure to respond to audit (partial response)</td>\n",
       "      <td>1 year</td>\n",
       "      <td>8/20/2014</td>\n",
       "      <td>8/19/2015</td>\n",
       "      <td>viol1</td>\n",
       "      <td>TX</td>\n",
       "      <td>False</td>\n",
       "      <td>TX</td>\n",
       "      <td>True</td>\n",
       "    </tr>\n",
       "    <tr>\n",
       "      <th>12</th>\n",
       "      <td>Rollo Farm Labor Contractor</td>\n",
       "      <td>Miami, FL</td>\n",
       "      <td>Failure to respond to audit (no response)</td>\n",
       "      <td>2 years</td>\n",
       "      <td>8/23/2014</td>\n",
       "      <td>8/22/2016</td>\n",
       "      <td>viol1</td>\n",
       "      <td>FL</td>\n",
       "      <td>False</td>\n",
       "      <td>FL</td>\n",
       "      <td>True</td>\n",
       "    </tr>\n",
       "  </tbody>\n",
       "</table>\n",
       "</div>"
      ],
      "text/plain": [
       "                                     Name      City, State  \\\n",
       "6                 Annabella Land & Cattle    Annabella, UT   \n",
       "7                     Autumn Hill Orchard       Groton, MA   \n",
       "8   Caddo Creek Ranch, dba Paradise Ranch        Caddo, TX   \n",
       "11                  Loewen Harvesting LLC  Brownsville, TX   \n",
       "12            Rollo Farm Labor Contractor        Miami, FL   \n",
       "\n",
       "                                         Violation Duration Start date  \\\n",
       "6                                      Non Payment   1 year   5/9/2014   \n",
       "7        Failure to respond to audit (no response)  2 years   7/6/2014   \n",
       "8   Failure to respond to audit (partial response)  2 years  7/20/2014   \n",
       "11  Failure to respond to audit (partial response)   1 year  8/20/2014   \n",
       "12       Failure to respond to audit (no response)  2 years  8/23/2014   \n",
       "\n",
       "     End date violation_number State  State_long_indicator State_cleaned  \\\n",
       "6    5/9/2015            viol1    UT                 False            UT   \n",
       "7    7/5/2016            viol1    MA                 False            MA   \n",
       "8   7/19/2016            viol1    TX                 False            TX   \n",
       "11  8/19/2015            viol1    TX                 False            TX   \n",
       "12  8/22/2016            viol1    FL                 False            FL   \n",
       "\n",
       "    is_repeated  \n",
       "6          True  \n",
       "7          True  \n",
       "8          True  \n",
       "11         True  \n",
       "12         True  "
      ]
     },
     "execution_count": 15,
     "metadata": {},
     "output_type": "execute_result"
    },
    {
     "data": {
      "text/plain": [
       "(32, 11)"
      ]
     },
     "execution_count": 15,
     "metadata": {},
     "output_type": "execute_result"
    }
   ],
   "source": [
    "# Subset to the rows where `is_repeated == True` and save that data as `mult_debar`. Print the head() and shape\n",
    "mult_debar = debar[debar.is_repeated == True].copy()\n",
    "mult_debar.head()\n",
    "mult_debar.shape"
   ]
  },
  {
   "cell_type": "markdown",
   "metadata": {},
   "source": [
    "## 1.4 Reshape `mult_debar` to wide format to begin filtering out duplicates (4 points)\n",
    "\n",
    "You want to separate out two cases:\n",
    "\n",
    "- Cases where the repeat rows for one employer are due to duplicated data \n",
    "- Cases where the repeat rows for one employer represent repeated violations for different issues\n",
    "\n",
    "There are various ways to check duplicates in these data: e.g., converting `Violation` to lowercase or replacing spelled-out states with two-dig state codes.\n",
    "\n",
    "We're going to use the simple rule of:\n",
    "\n",
    "- A row is a duplicate if, within an employer (defined by Name + City, State), the Start date for each row's violation is the same \n",
    "\n",
    "To begin to check this, reshape `mult_debar` to a wide dataframe (`mult_debar_wide`) with the following columns, treating the `Name` and `City, State` as the index for the pivot:\n",
    "\n",
    "- Name\n",
    "- City, State\n",
    "- start_date_viol1\n",
    "- start_date_viol2\n",
    "\n",
    "For a successful reshaping, make sure each row in `mult_debar` shows only a single business (no duplicates under `Name`) and isn't missing either `start_date_viol1` or `start_date_viol2`.\n",
    "\n",
    "Show the contents of `mult_debar` and its shape."
   ]
  },
  {
   "cell_type": "code",
   "execution_count": 16,
   "metadata": {},
   "outputs": [
    {
     "data": {
      "text/html": [
       "<div>\n",
       "<style scoped>\n",
       "    .dataframe tbody tr th:only-of-type {\n",
       "        vertical-align: middle;\n",
       "    }\n",
       "\n",
       "    .dataframe tbody tr th {\n",
       "        vertical-align: top;\n",
       "    }\n",
       "\n",
       "    .dataframe thead th {\n",
       "        text-align: right;\n",
       "    }\n",
       "</style>\n",
       "<table border=\"1\" class=\"dataframe\">\n",
       "  <thead>\n",
       "    <tr style=\"text-align: right;\">\n",
       "      <th></th>\n",
       "      <th>Name</th>\n",
       "      <th>City, State</th>\n",
       "      <th>start_date_viol1</th>\n",
       "      <th>start_date_viol2</th>\n",
       "    </tr>\n",
       "  </thead>\n",
       "  <tbody>\n",
       "    <tr>\n",
       "      <th>0</th>\n",
       "      <td>Annabella Land &amp; Cattle</td>\n",
       "      <td>Annabella, UT</td>\n",
       "      <td>5/9/2014</td>\n",
       "      <td>5/9/2014</td>\n",
       "    </tr>\n",
       "    <tr>\n",
       "      <th>1</th>\n",
       "      <td>Autumn Hill Orchard</td>\n",
       "      <td>Groton, MA</td>\n",
       "      <td>7/6/2014</td>\n",
       "      <td>7/6/2014</td>\n",
       "    </tr>\n",
       "    <tr>\n",
       "      <th>2</th>\n",
       "      <td>Caddo Creek Ranch, dba Paradise Ranch</td>\n",
       "      <td>Caddo, TX</td>\n",
       "      <td>7/20/2014</td>\n",
       "      <td>7/20/2014</td>\n",
       "    </tr>\n",
       "    <tr>\n",
       "      <th>3</th>\n",
       "      <td>Cisco Produce Inc.</td>\n",
       "      <td>Cairo, GA</td>\n",
       "      <td>12/10/2014</td>\n",
       "      <td>12/10/2015</td>\n",
       "    </tr>\n",
       "    <tr>\n",
       "      <th>4</th>\n",
       "      <td>Dove Creek Farms</td>\n",
       "      <td>Mount Vernon, TX</td>\n",
       "      <td>2/9/2018</td>\n",
       "      <td>2/9/2018</td>\n",
       "    </tr>\n",
       "    <tr>\n",
       "      <th>5</th>\n",
       "      <td>F&amp;W Farms</td>\n",
       "      <td>Ingalls, KS</td>\n",
       "      <td>12/10/2014</td>\n",
       "      <td>12/10/2014</td>\n",
       "    </tr>\n",
       "    <tr>\n",
       "      <th>6</th>\n",
       "      <td>Loewen Harvesting LLC</td>\n",
       "      <td>Brownsville, TX</td>\n",
       "      <td>8/20/2014</td>\n",
       "      <td>8/20/2014</td>\n",
       "    </tr>\n",
       "    <tr>\n",
       "      <th>7</th>\n",
       "      <td>Macky and Brad Farms</td>\n",
       "      <td>Plains, TX</td>\n",
       "      <td>2/13/2015</td>\n",
       "      <td>2/13/2015</td>\n",
       "    </tr>\n",
       "    <tr>\n",
       "      <th>8</th>\n",
       "      <td>Maple Ridge Custom Services, LLC</td>\n",
       "      <td>Altheimer, AR</td>\n",
       "      <td>11/16/2014</td>\n",
       "      <td>11/16/2014</td>\n",
       "    </tr>\n",
       "    <tr>\n",
       "      <th>9</th>\n",
       "      <td>Mark Duncan</td>\n",
       "      <td>Roosevelt, UT</td>\n",
       "      <td>11/16/2014</td>\n",
       "      <td>11/16/2014</td>\n",
       "    </tr>\n",
       "    <tr>\n",
       "      <th>10</th>\n",
       "      <td>Old Tree Farms/Verpaalen Custom Service</td>\n",
       "      <td>Volga, SD</td>\n",
       "      <td>12/11/2014</td>\n",
       "      <td>12/1/2014</td>\n",
       "    </tr>\n",
       "    <tr>\n",
       "      <th>11</th>\n",
       "      <td>Rollo Farm Labor Contractor</td>\n",
       "      <td>Miami, FL</td>\n",
       "      <td>8/23/2014</td>\n",
       "      <td>8/23/2014</td>\n",
       "    </tr>\n",
       "    <tr>\n",
       "      <th>12</th>\n",
       "      <td>SRT Farms</td>\n",
       "      <td>Morton, TX</td>\n",
       "      <td>11/16/2014</td>\n",
       "      <td>11/16/2014</td>\n",
       "    </tr>\n",
       "    <tr>\n",
       "      <th>13</th>\n",
       "      <td>Sharon Mathis</td>\n",
       "      <td>Tifton, GA</td>\n",
       "      <td>11/16/2014</td>\n",
       "      <td>11/16/2014</td>\n",
       "    </tr>\n",
       "    <tr>\n",
       "      <th>14</th>\n",
       "      <td>Turner Farms</td>\n",
       "      <td>Healy, KS</td>\n",
       "      <td>7/17/19</td>\n",
       "      <td>7/17/19</td>\n",
       "    </tr>\n",
       "    <tr>\n",
       "      <th>15</th>\n",
       "      <td>Xavier Horne</td>\n",
       "      <td>Lyons, GA</td>\n",
       "      <td>6/16/2016</td>\n",
       "      <td>9/27/2017</td>\n",
       "    </tr>\n",
       "  </tbody>\n",
       "</table>\n",
       "</div>"
      ],
      "text/plain": [
       "                                       Name       City, State  \\\n",
       "0                   Annabella Land & Cattle     Annabella, UT   \n",
       "1                       Autumn Hill Orchard        Groton, MA   \n",
       "2     Caddo Creek Ranch, dba Paradise Ranch         Caddo, TX   \n",
       "3                        Cisco Produce Inc.         Cairo, GA   \n",
       "4                          Dove Creek Farms  Mount Vernon, TX   \n",
       "5                                 F&W Farms       Ingalls, KS   \n",
       "6                     Loewen Harvesting LLC   Brownsville, TX   \n",
       "7                      Macky and Brad Farms        Plains, TX   \n",
       "8          Maple Ridge Custom Services, LLC     Altheimer, AR   \n",
       "9                               Mark Duncan     Roosevelt, UT   \n",
       "10  Old Tree Farms/Verpaalen Custom Service         Volga, SD   \n",
       "11              Rollo Farm Labor Contractor         Miami, FL   \n",
       "12                                SRT Farms        Morton, TX   \n",
       "13                            Sharon Mathis        Tifton, GA   \n",
       "14                             Turner Farms         Healy, KS   \n",
       "15                             Xavier Horne         Lyons, GA   \n",
       "\n",
       "   start_date_viol1 start_date_viol2  \n",
       "0          5/9/2014         5/9/2014  \n",
       "1          7/6/2014         7/6/2014  \n",
       "2         7/20/2014        7/20/2014  \n",
       "3        12/10/2014       12/10/2015  \n",
       "4          2/9/2018         2/9/2018  \n",
       "5        12/10/2014       12/10/2014  \n",
       "6         8/20/2014        8/20/2014  \n",
       "7         2/13/2015        2/13/2015  \n",
       "8        11/16/2014       11/16/2014  \n",
       "9        11/16/2014       11/16/2014  \n",
       "10       12/11/2014        12/1/2014  \n",
       "11        8/23/2014        8/23/2014  \n",
       "12       11/16/2014       11/16/2014  \n",
       "13       11/16/2014       11/16/2014  \n",
       "14          7/17/19          7/17/19  \n",
       "15        6/16/2016        9/27/2017  "
      ]
     },
     "execution_count": 16,
     "metadata": {},
     "output_type": "execute_result"
    },
    {
     "data": {
      "text/plain": [
       "(16, 4)"
      ]
     },
     "execution_count": 16,
     "metadata": {},
     "output_type": "execute_result"
    }
   ],
   "source": [
    "## your code here\n",
    "## clean the state name in 'City, State' column\n",
    "## axis == 1 means apply the function to each row (make changes to all the entires in the column)\n",
    "mult_debar['City, State'] = mult_debar.apply(lambda row: re.sub(r',.*', \", \" , row['City, State']), axis=1) + mult_debar['State_cleaned']\n",
    "\n",
    "\n",
    "## the commented code below accomplishes the same thing as the above code\n",
    "# for i in range(mult_debar.shape[0]):\n",
    "#     mult_debar.loc[i, 'City, State'] = re.sub(r',.*', \", \" + mult_debar['State_cleaned'].iloc[i], mult_debar['City, State'].iloc[i])\n",
    "\n",
    "## reshare mult_debar to wide format\n",
    "mult_debar_wide = mult_debar.pivot(index=['Name', 'City, State'], columns='violation_number', values='Start date').reset_index()\n",
    "mult_debar_wide.columns = ['Name', 'City, State', 'start_date_viol1', 'start_date_viol2']\n",
    "mult_debar_wide\n",
    "mult_debar_wide.shape"
   ]
  },
  {
   "cell_type": "markdown",
   "metadata": {},
   "source": [
    "## 1.5 Filter out duplicates from original debar data (6 points)\n",
    "\n",
    "A. Using `mult_debar_wide`, add a column `is_dup` that takes value of True for cases where start_date_viol1 == start_date_viol2 marking the row as a duplicate\n",
    "\n",
    "B. Going back to the original long-format data you loaded at the beginning, `debar`, filter as follows:\n",
    "- For employers where `is_dup == True` as indicated by your wide-format dataframe, only keep `violnum == viol1`\n",
    "- For all other employers (so is_dup == False and ones we didnt need to check duplicates for), keep all violnum\n",
    "- Remove the `is_repeated` column from the `debar` data\n",
    "\n",
    "**Hint**: you can complete part B without a for loop; `pd.concat` with axis = 0 (row binding) is one way\n",
    "\n",
    "Call the resulting dataframe `debar_clean` and print the shape and # of unique employer names"
   ]
  },
  {
   "cell_type": "code",
   "execution_count": 17,
   "metadata": {},
   "outputs": [
    {
     "name": "stdout",
     "output_type": "stream",
     "text": [
      "debar_clean shape: (101, 10)\n",
      "# of unique employer names: 98\n"
     ]
    }
   ],
   "source": [
    "## your code here\n",
    "mult_debar_wide['is_dup'] = mult_debar_wide['start_date_viol1'] == mult_debar_wide['start_date_viol2']\n",
    "# debar.drop(columns='is_repeated', inplace=True)\n",
    "\n",
    "## set of all the employees with duplicate violations (i.e. the same start date for both violations)\n",
    "duplicate_employees = set(mult_debar_wide[mult_debar_wide['is_dup'] == True]['Name'])\n",
    "\n",
    "## subset rows where the employee only have one violation\n",
    "debar_not_dup = debar[~(debar['Name'].isin(duplicate_employees))]\n",
    "\n",
    "## subset rows where the employee have two violations and keep only the first violation\n",
    "debar_dup_viol1 = debar[(debar['Name'].isin(duplicate_employees)) & (debar['violation_number'] == 'viol1')]\n",
    "\n",
    "debar_clean = pd.concat([debar_not_dup, debar_dup_viol1], axis=0)\n",
    "debar_clean.drop('is_repeated', axis=1, inplace=True)\n",
    "\n",
    "print(\"debar_clean shape:\", debar_clean.shape)\n",
    "print(\"# of unique employer names:\", debar_clean['Name'].nunique())"
   ]
  },
  {
   "cell_type": "markdown",
   "metadata": {},
   "source": [
    "# 2. Merging and regex (19 points total)\n",
    "\n"
   ]
  },
  {
   "cell_type": "markdown",
   "metadata": {},
   "source": [
    "## 2.1 Load data on job postings (1 point)\n",
    "\n",
    "The previous dataset contains a small subset of employers who faced temporary bans due to violations of H-2A program regulations. Since most of the bans have expired, let's see which of those employers posted new H-2A jobs in the first quarter of 2021.\n",
    "\n",
    "First, load the `jobs.csv` data stored in `pset3_inputdata`."
   ]
  },
  {
   "cell_type": "code",
   "execution_count": 18,
   "metadata": {},
   "outputs": [
    {
     "data": {
      "text/html": [
       "<div>\n",
       "<style scoped>\n",
       "    .dataframe tbody tr th:only-of-type {\n",
       "        vertical-align: middle;\n",
       "    }\n",
       "\n",
       "    .dataframe tbody tr th {\n",
       "        vertical-align: top;\n",
       "    }\n",
       "\n",
       "    .dataframe thead th {\n",
       "        text-align: right;\n",
       "    }\n",
       "</style>\n",
       "<table border=\"1\" class=\"dataframe\">\n",
       "  <thead>\n",
       "    <tr style=\"text-align: right;\">\n",
       "      <th></th>\n",
       "      <th>CASE_NUMBER</th>\n",
       "      <th>CASE_STATUS</th>\n",
       "      <th>RECEIVED_DATE</th>\n",
       "      <th>DECISION_DATE</th>\n",
       "      <th>TYPE_OF_EMPLOYER_APPLICATION</th>\n",
       "      <th>H2A_LABOR_CONTRACTOR</th>\n",
       "      <th>NATURE_OF_TEMPORARY_NEED</th>\n",
       "      <th>EMERGENCY_FILING</th>\n",
       "      <th>EMPLOYER_NAME</th>\n",
       "      <th>TRADE_NAME_DBA</th>\n",
       "      <th>...</th>\n",
       "      <th>ADDENDUM_B_HOUSING_ATTACHED</th>\n",
       "      <th>TOTAL_HOUSING_RECORDS</th>\n",
       "      <th>MEALS_PROVIDED</th>\n",
       "      <th>MEALS_CHARGED</th>\n",
       "      <th>MEAL_REIMBURSEMENT_MINIMUM</th>\n",
       "      <th>MEAL_REIMBURSEMENT_MAXIMUM</th>\n",
       "      <th>PHONE_TO_APPLY</th>\n",
       "      <th>EMAIL_TO_APPLY</th>\n",
       "      <th>WEBSITE_TO_APPLY</th>\n",
       "      <th>TOTAL_ADDENDUM_A_RECORDS</th>\n",
       "    </tr>\n",
       "  </thead>\n",
       "  <tbody>\n",
       "    <tr>\n",
       "      <th>0</th>\n",
       "      <td>H-300-20199-721302</td>\n",
       "      <td>Determination Issued - Withdrawn</td>\n",
       "      <td>2020-07-17 14:50:40.840</td>\n",
       "      <td>2020-10-01 00:00:00.000</td>\n",
       "      <td>Individual Employer</td>\n",
       "      <td>N</td>\n",
       "      <td>Seasonal</td>\n",
       "      <td>Y</td>\n",
       "      <td>Fazio Farms Operating Company, LLC</td>\n",
       "      <td>NaN</td>\n",
       "      <td>...</td>\n",
       "      <td>N</td>\n",
       "      <td>1</td>\n",
       "      <td>Y</td>\n",
       "      <td>12.68</td>\n",
       "      <td>12.68</td>\n",
       "      <td>55.0</td>\n",
       "      <td>13607017661</td>\n",
       "      <td>faziofarms@gmail.com</td>\n",
       "      <td>NaN</td>\n",
       "      <td>0</td>\n",
       "    </tr>\n",
       "    <tr>\n",
       "      <th>1</th>\n",
       "      <td>H-300-20231-773906</td>\n",
       "      <td>Determination Issued - Certification</td>\n",
       "      <td>2020-08-20 10:38:15.620</td>\n",
       "      <td>2020-10-01 00:00:00.000</td>\n",
       "      <td>Association - Agent</td>\n",
       "      <td>N</td>\n",
       "      <td>Seasonal</td>\n",
       "      <td>N</td>\n",
       "      <td>Charlie Sunderland</td>\n",
       "      <td>Panter &amp; Sunderland Nursery</td>\n",
       "      <td>...</td>\n",
       "      <td>N</td>\n",
       "      <td>1</td>\n",
       "      <td>N</td>\n",
       "      <td>NaN</td>\n",
       "      <td>12.68</td>\n",
       "      <td>55.0</td>\n",
       "      <td>19318083783</td>\n",
       "      <td>NaN</td>\n",
       "      <td>https://www.jobs4tn.gov/vosnet/Default.aspx</td>\n",
       "      <td>0</td>\n",
       "    </tr>\n",
       "    <tr>\n",
       "      <th>2</th>\n",
       "      <td>H-300-20231-774123</td>\n",
       "      <td>Determination Issued - Certification</td>\n",
       "      <td>2020-08-24 15:33:14.340</td>\n",
       "      <td>2020-10-01 00:00:00.000</td>\n",
       "      <td>Individual Employer</td>\n",
       "      <td>N</td>\n",
       "      <td>Seasonal</td>\n",
       "      <td>N</td>\n",
       "      <td>Michael Rudebusch</td>\n",
       "      <td>NaN</td>\n",
       "      <td>...</td>\n",
       "      <td>N</td>\n",
       "      <td>1</td>\n",
       "      <td>N</td>\n",
       "      <td>NaN</td>\n",
       "      <td>12.68</td>\n",
       "      <td>55.0</td>\n",
       "      <td>19369333827</td>\n",
       "      <td>fayethlynpitre@rocketmail.com</td>\n",
       "      <td>NaN</td>\n",
       "      <td>0</td>\n",
       "    </tr>\n",
       "    <tr>\n",
       "      <th>3</th>\n",
       "      <td>H-300-20231-774151</td>\n",
       "      <td>Determination Issued - Certification</td>\n",
       "      <td>2020-08-21 12:08:09.760</td>\n",
       "      <td>2020-10-01 00:00:00.000</td>\n",
       "      <td>Individual Employer</td>\n",
       "      <td>N</td>\n",
       "      <td>Seasonal</td>\n",
       "      <td>N</td>\n",
       "      <td>Lodahl Farms</td>\n",
       "      <td>NaN</td>\n",
       "      <td>...</td>\n",
       "      <td>Y</td>\n",
       "      <td>2</td>\n",
       "      <td>N</td>\n",
       "      <td>NaN</td>\n",
       "      <td>12.68</td>\n",
       "      <td>55.0</td>\n",
       "      <td>14069637560</td>\n",
       "      <td>lodahl_kelsey@yahoo.com</td>\n",
       "      <td>NaN</td>\n",
       "      <td>0</td>\n",
       "    </tr>\n",
       "    <tr>\n",
       "      <th>4</th>\n",
       "      <td>H-300-20231-774508</td>\n",
       "      <td>Determination Issued - Certification</td>\n",
       "      <td>2020-08-20 10:17:34.530</td>\n",
       "      <td>2020-10-01 00:00:00.000</td>\n",
       "      <td>Individual Employer</td>\n",
       "      <td>Y</td>\n",
       "      <td>Seasonal</td>\n",
       "      <td>N</td>\n",
       "      <td>Dunson Harvesting, Inc.</td>\n",
       "      <td>Dunson Harvesting, Inc.</td>\n",
       "      <td>...</td>\n",
       "      <td>Y</td>\n",
       "      <td>8</td>\n",
       "      <td>N</td>\n",
       "      <td>NaN</td>\n",
       "      <td>12.68</td>\n",
       "      <td>55.0</td>\n",
       "      <td>18632939888</td>\n",
       "      <td>NaN</td>\n",
       "      <td>www.employflorida.com</td>\n",
       "      <td>4</td>\n",
       "    </tr>\n",
       "  </tbody>\n",
       "</table>\n",
       "<p>5 rows × 138 columns</p>\n",
       "</div>"
      ],
      "text/plain": [
       "          CASE_NUMBER                           CASE_STATUS  \\\n",
       "0  H-300-20199-721302      Determination Issued - Withdrawn   \n",
       "1  H-300-20231-773906  Determination Issued - Certification   \n",
       "2  H-300-20231-774123  Determination Issued - Certification   \n",
       "3  H-300-20231-774151  Determination Issued - Certification   \n",
       "4  H-300-20231-774508  Determination Issued - Certification   \n",
       "\n",
       "             RECEIVED_DATE            DECISION_DATE  \\\n",
       "0  2020-07-17 14:50:40.840  2020-10-01 00:00:00.000   \n",
       "1  2020-08-20 10:38:15.620  2020-10-01 00:00:00.000   \n",
       "2  2020-08-24 15:33:14.340  2020-10-01 00:00:00.000   \n",
       "3  2020-08-21 12:08:09.760  2020-10-01 00:00:00.000   \n",
       "4  2020-08-20 10:17:34.530  2020-10-01 00:00:00.000   \n",
       "\n",
       "  TYPE_OF_EMPLOYER_APPLICATION H2A_LABOR_CONTRACTOR NATURE_OF_TEMPORARY_NEED  \\\n",
       "0          Individual Employer                    N                 Seasonal   \n",
       "1          Association - Agent                    N                 Seasonal   \n",
       "2          Individual Employer                    N                 Seasonal   \n",
       "3          Individual Employer                    N                 Seasonal   \n",
       "4          Individual Employer                    Y                 Seasonal   \n",
       "\n",
       "  EMERGENCY_FILING                       EMPLOYER_NAME  \\\n",
       "0                Y  Fazio Farms Operating Company, LLC   \n",
       "1                N                  Charlie Sunderland   \n",
       "2                N                   Michael Rudebusch   \n",
       "3                N                        Lodahl Farms   \n",
       "4                N             Dunson Harvesting, Inc.   \n",
       "\n",
       "                TRADE_NAME_DBA  ... ADDENDUM_B_HOUSING_ATTACHED  \\\n",
       "0                          NaN  ...                           N   \n",
       "1  Panter & Sunderland Nursery  ...                           N   \n",
       "2                          NaN  ...                           N   \n",
       "3                          NaN  ...                           Y   \n",
       "4      Dunson Harvesting, Inc.  ...                           Y   \n",
       "\n",
       "  TOTAL_HOUSING_RECORDS MEALS_PROVIDED MEALS_CHARGED  \\\n",
       "0                     1              Y         12.68   \n",
       "1                     1              N           NaN   \n",
       "2                     1              N           NaN   \n",
       "3                     2              N           NaN   \n",
       "4                     8              N           NaN   \n",
       "\n",
       "  MEAL_REIMBURSEMENT_MINIMUM MEAL_REIMBURSEMENT_MAXIMUM PHONE_TO_APPLY  \\\n",
       "0                      12.68                       55.0    13607017661   \n",
       "1                      12.68                       55.0    19318083783   \n",
       "2                      12.68                       55.0    19369333827   \n",
       "3                      12.68                       55.0    14069637560   \n",
       "4                      12.68                       55.0    18632939888   \n",
       "\n",
       "                  EMAIL_TO_APPLY                             WEBSITE_TO_APPLY  \\\n",
       "0           faziofarms@gmail.com                                          NaN   \n",
       "1                            NaN  https://www.jobs4tn.gov/vosnet/Default.aspx   \n",
       "2  fayethlynpitre@rocketmail.com                                          NaN   \n",
       "3        lodahl_kelsey@yahoo.com                                          NaN   \n",
       "4                            NaN                        www.employflorida.com   \n",
       "\n",
       "   TOTAL_ADDENDUM_A_RECORDS  \n",
       "0                         0  \n",
       "1                         0  \n",
       "2                         0  \n",
       "3                         0  \n",
       "4                         4  \n",
       "\n",
       "[5 rows x 138 columns]"
      ]
     },
     "execution_count": 18,
     "metadata": {},
     "output_type": "execute_result"
    },
    {
     "data": {
      "text/plain": [
       "Index(['CASE_NUMBER', 'CASE_STATUS', 'RECEIVED_DATE', 'DECISION_DATE',\n",
       "       'TYPE_OF_EMPLOYER_APPLICATION', 'H2A_LABOR_CONTRACTOR',\n",
       "       'NATURE_OF_TEMPORARY_NEED', 'EMERGENCY_FILING', 'EMPLOYER_NAME',\n",
       "       'TRADE_NAME_DBA',\n",
       "       ...\n",
       "       'ADDENDUM_B_HOUSING_ATTACHED', 'TOTAL_HOUSING_RECORDS',\n",
       "       'MEALS_PROVIDED', 'MEALS_CHARGED', 'MEAL_REIMBURSEMENT_MINIMUM',\n",
       "       'MEAL_REIMBURSEMENT_MAXIMUM', 'PHONE_TO_APPLY', 'EMAIL_TO_APPLY',\n",
       "       'WEBSITE_TO_APPLY', 'TOTAL_ADDENDUM_A_RECORDS'],\n",
       "      dtype='object', length=138)"
      ]
     },
     "execution_count": 18,
     "metadata": {},
     "output_type": "execute_result"
    },
    {
     "data": {
      "text/plain": [
       "(2720, 138)"
      ]
     },
     "execution_count": 18,
     "metadata": {},
     "output_type": "execute_result"
    }
   ],
   "source": [
    "# your code here to load the data \n",
    "jobs = pd.read_csv('pset3_inputdata/jobs.csv')\n",
    "jobs.head()\n",
    "jobs.columns\n",
    "jobs.shape"
   ]
  },
  {
   "cell_type": "markdown",
   "metadata": {},
   "source": [
    "The most notable column names mean as follows:\n",
    "- `CASE_NUMBER`:\tAdministrative identifier for an employer's H-2A visa application\n",
    "- `EMPLOYER_NAME`:\tEmployer name\n",
    "- `EMPLOYER_CITY`:\tEmployer city\n",
    "- `EMPLOYER_STATE`:\tEmployer state\n",
    "- `EMPLOYER_ADDRESS_1`:\tEmployer address (only need to use if doing the geocoding extra credit)"
   ]
  },
  {
   "cell_type": "markdown",
   "metadata": {},
   "source": [
    "##  2.2 Try inner join on employer name  (2 points)\n",
    "\n",
    "- Use the `EMPLOYER_NAME` field of the `jobs` dataset\n",
    "- Use the `Name` field of the `debar_clean` dataset \n",
    "\n",
    "A. Use pd.merge with an inner join on those fields to see whether there are any exact matches. \n",
    "\n",
    "B. If there are exact matches, print the row(s) with exact matches\n",
    "\n"
   ]
  },
  {
   "cell_type": "code",
   "execution_count": 19,
   "metadata": {},
   "outputs": [
    {
     "data": {
      "text/html": [
       "<div>\n",
       "<style scoped>\n",
       "    .dataframe tbody tr th:only-of-type {\n",
       "        vertical-align: middle;\n",
       "    }\n",
       "\n",
       "    .dataframe tbody tr th {\n",
       "        vertical-align: top;\n",
       "    }\n",
       "\n",
       "    .dataframe thead th {\n",
       "        text-align: right;\n",
       "    }\n",
       "</style>\n",
       "<table border=\"1\" class=\"dataframe\">\n",
       "  <thead>\n",
       "    <tr style=\"text-align: right;\">\n",
       "      <th></th>\n",
       "      <th>Name</th>\n",
       "      <th>City, State</th>\n",
       "      <th>Violation</th>\n",
       "      <th>Duration</th>\n",
       "      <th>Start date</th>\n",
       "      <th>End date</th>\n",
       "      <th>violation_number</th>\n",
       "      <th>State</th>\n",
       "      <th>State_long_indicator</th>\n",
       "      <th>State_cleaned</th>\n",
       "      <th>...</th>\n",
       "      <th>TOTAL_HOUSING_RECORDS</th>\n",
       "      <th>MEALS_PROVIDED</th>\n",
       "      <th>MEALS_CHARGED</th>\n",
       "      <th>MEAL_REIMBURSEMENT_MINIMUM</th>\n",
       "      <th>MEAL_REIMBURSEMENT_MAXIMUM</th>\n",
       "      <th>PHONE_TO_APPLY</th>\n",
       "      <th>EMAIL_TO_APPLY</th>\n",
       "      <th>WEBSITE_TO_APPLY</th>\n",
       "      <th>TOTAL_ADDENDUM_A_RECORDS</th>\n",
       "      <th>_merge</th>\n",
       "    </tr>\n",
       "  </thead>\n",
       "  <tbody>\n",
       "    <tr>\n",
       "      <th>0</th>\n",
       "      <td>Rafael Barajas</td>\n",
       "      <td>Sebring, Florida</td>\n",
       "      <td>Non-payment of certification fee</td>\n",
       "      <td>1 year</td>\n",
       "      <td>9/23/2016</td>\n",
       "      <td>9/22/2017</td>\n",
       "      <td>viol1</td>\n",
       "      <td>Florida</td>\n",
       "      <td>True</td>\n",
       "      <td>FL</td>\n",
       "      <td>...</td>\n",
       "      <td>3</td>\n",
       "      <td>Y</td>\n",
       "      <td>12.68</td>\n",
       "      <td>12.68</td>\n",
       "      <td>55.0</td>\n",
       "      <td>18632732686</td>\n",
       "      <td>NaN</td>\n",
       "      <td>https://seasonaljobs.dol.gov/</td>\n",
       "      <td>7</td>\n",
       "      <td>both</td>\n",
       "    </tr>\n",
       "  </tbody>\n",
       "</table>\n",
       "<p>1 rows × 149 columns</p>\n",
       "</div>"
      ],
      "text/plain": [
       "             Name       City, State                         Violation  \\\n",
       "0  Rafael Barajas  Sebring, Florida  Non-payment of certification fee   \n",
       "\n",
       "  Duration Start date   End date violation_number    State  \\\n",
       "0   1 year  9/23/2016  9/22/2017            viol1  Florida   \n",
       "\n",
       "   State_long_indicator State_cleaned  ... TOTAL_HOUSING_RECORDS  \\\n",
       "0                  True            FL  ...                     3   \n",
       "\n",
       "  MEALS_PROVIDED MEALS_CHARGED MEAL_REIMBURSEMENT_MINIMUM  \\\n",
       "0              Y         12.68                      12.68   \n",
       "\n",
       "  MEAL_REIMBURSEMENT_MAXIMUM PHONE_TO_APPLY EMAIL_TO_APPLY  \\\n",
       "0                       55.0    18632732686            NaN   \n",
       "\n",
       "                WEBSITE_TO_APPLY TOTAL_ADDENDUM_A_RECORDS _merge  \n",
       "0  https://seasonaljobs.dol.gov/                        7   both  \n",
       "\n",
       "[1 rows x 149 columns]"
      ]
     },
     "execution_count": 19,
     "metadata": {},
     "output_type": "execute_result"
    }
   ],
   "source": [
    "## your code here\n",
    "inner_joined = pd.merge(debar_clean, jobs, how='inner', left_on = 'Name', right_on = 'EMPLOYER_NAME', indicator=True)\n",
    "\n",
    "## To see if there exact matches between the two datasets, we can print the inner_joined dataframe as it only merges when there are exact matches\n",
    "inner_joined"
   ]
  },
  {
   "cell_type": "markdown",
   "metadata": {},
   "source": [
    "## 2.3 Targeted regex (11 points total)\n",
    "\n",
    "You want to see if you can increase the exact match rate with some basic cleaning of each \n",
    "of the employer name fields in each dataset "
   ]
  },
  {
   "cell_type": "markdown",
   "metadata": {},
   "source": [
    "### 2.3.1 Convert to upper (3 points)\n",
    "\n",
    "A. Convert the `EMPLOYER_NAME` and `Name` fields to uppercase using list comprehension rather than df.varname.str.upper() (it's fine to do a separate list comprehension line for each of the two columns)\n",
    "\n",
    "B. Print a random sample of 15 values of each result\n",
    "\n",
    "C. Assign the full vector of uppercase names back to the original data, writing over the original `EMPLOYER_NAME` and `Name` columns \n"
   ]
  },
  {
   "cell_type": "code",
   "execution_count": 20,
   "metadata": {},
   "outputs": [],
   "source": [
    "## insert your code to turn into uppercase here\n",
    "jobs_employer_name_upper = [name.upper() for name in jobs['EMPLOYER_NAME']]\n",
    "debar_employee_name_upper = [name.upper() for name in debar_clean['Name']]"
   ]
  },
  {
   "cell_type": "code",
   "execution_count": 21,
   "metadata": {},
   "outputs": [
    {
     "data": {
      "text/html": [
       "<div>\n",
       "<style scoped>\n",
       "    .dataframe tbody tr th:only-of-type {\n",
       "        vertical-align: middle;\n",
       "    }\n",
       "\n",
       "    .dataframe tbody tr th {\n",
       "        vertical-align: top;\n",
       "    }\n",
       "\n",
       "    .dataframe thead th {\n",
       "        text-align: right;\n",
       "    }\n",
       "</style>\n",
       "<table border=\"1\" class=\"dataframe\">\n",
       "  <thead>\n",
       "    <tr style=\"text-align: right;\">\n",
       "      <th></th>\n",
       "      <th>jobs</th>\n",
       "      <th>debar</th>\n",
       "    </tr>\n",
       "  </thead>\n",
       "  <tbody>\n",
       "    <tr>\n",
       "      <th>0</th>\n",
       "      <td>OVERDEVEST NURSERIES, L.P.</td>\n",
       "      <td>JEREMY CHANDLER</td>\n",
       "    </tr>\n",
       "    <tr>\n",
       "      <th>1</th>\n",
       "      <td>WOLF ONE FARMS, INC.</td>\n",
       "      <td>OMEGA LAMB, LLC</td>\n",
       "    </tr>\n",
       "    <tr>\n",
       "      <th>2</th>\n",
       "      <td>KIRK BROUSSARD FARMS</td>\n",
       "      <td>XAVIER HORNE</td>\n",
       "    </tr>\n",
       "    <tr>\n",
       "      <th>3</th>\n",
       "      <td>DURAND PONDS &amp; FARMS, INC.</td>\n",
       "      <td>K W ENTERPRISES</td>\n",
       "    </tr>\n",
       "    <tr>\n",
       "      <th>4</th>\n",
       "      <td>C E JACKSON FARMS, INC.</td>\n",
       "      <td>LESLIE COOK</td>\n",
       "    </tr>\n",
       "    <tr>\n",
       "      <th>5</th>\n",
       "      <td>WELSTAD LIVESTOCK PARTNERSHIP</td>\n",
       "      <td>REIMER’S INC.</td>\n",
       "    </tr>\n",
       "    <tr>\n",
       "      <th>6</th>\n",
       "      <td>COASTAL FARM LABOR SERVICES, INC.</td>\n",
       "      <td>ROLLO FARM LABOR CONTRACTOR</td>\n",
       "    </tr>\n",
       "    <tr>\n",
       "      <th>7</th>\n",
       "      <td>WESTERN RANGE ASSOCIATION</td>\n",
       "      <td>TODD DAULTON</td>\n",
       "    </tr>\n",
       "    <tr>\n",
       "      <th>8</th>\n",
       "      <td>RCB VENTURES LLC</td>\n",
       "      <td>OLSON FARMS</td>\n",
       "    </tr>\n",
       "    <tr>\n",
       "      <th>9</th>\n",
       "      <td>HOME CYPRESS FARMS</td>\n",
       "      <td>YESENIA PEREZ</td>\n",
       "    </tr>\n",
       "    <tr>\n",
       "      <th>10</th>\n",
       "      <td>DOMINGUEZ CANYON FRUIT COMPANY</td>\n",
       "      <td>AVOYELLES HONEY CO., LLC</td>\n",
       "    </tr>\n",
       "    <tr>\n",
       "      <th>11</th>\n",
       "      <td>AGRI CREW, LLC.</td>\n",
       "      <td>RAFAEL BARAJAS</td>\n",
       "    </tr>\n",
       "    <tr>\n",
       "      <th>12</th>\n",
       "      <td>MANZANA LLC</td>\n",
       "      <td>MAPLE RIDGE CUSTOM SERVICES, LLC</td>\n",
       "    </tr>\n",
       "    <tr>\n",
       "      <th>13</th>\n",
       "      <td>JOHN OR CASSANDRA WEST</td>\n",
       "      <td>RUBEN RUIZ (DESOTO HARVESTING)</td>\n",
       "    </tr>\n",
       "    <tr>\n",
       "      <th>14</th>\n",
       "      <td>FARM OP KUZZENS H2A, LLC</td>\n",
       "      <td>MYRKA MIREYA CARDENAS</td>\n",
       "    </tr>\n",
       "  </tbody>\n",
       "</table>\n",
       "</div>"
      ],
      "text/plain": [
       "                                 jobs                             debar\n",
       "0          OVERDEVEST NURSERIES, L.P.                   JEREMY CHANDLER\n",
       "1                WOLF ONE FARMS, INC.                   OMEGA LAMB, LLC\n",
       "2                KIRK BROUSSARD FARMS                      XAVIER HORNE\n",
       "3          DURAND PONDS & FARMS, INC.                   K W ENTERPRISES\n",
       "4             C E JACKSON FARMS, INC.                       LESLIE COOK\n",
       "5       WELSTAD LIVESTOCK PARTNERSHIP                     REIMER’S INC.\n",
       "6   COASTAL FARM LABOR SERVICES, INC.       ROLLO FARM LABOR CONTRACTOR\n",
       "7           WESTERN RANGE ASSOCIATION                      TODD DAULTON\n",
       "8                    RCB VENTURES LLC                       OLSON FARMS\n",
       "9                  HOME CYPRESS FARMS                     YESENIA PEREZ\n",
       "10     DOMINGUEZ CANYON FRUIT COMPANY          AVOYELLES HONEY CO., LLC\n",
       "11                   AGRI CREW, LLC.                     RAFAEL BARAJAS\n",
       "12                        MANZANA LLC  MAPLE RIDGE CUSTOM SERVICES, LLC\n",
       "13             JOHN OR CASSANDRA WEST    RUBEN RUIZ (DESOTO HARVESTING)\n",
       "14           FARM OP KUZZENS H2A, LLC             MYRKA MIREYA CARDENAS"
      ]
     },
     "execution_count": 21,
     "metadata": {},
     "output_type": "execute_result"
    }
   ],
   "source": [
    "## insert your code for the random sample\n",
    "pd.DataFrame({'jobs': random.choices(jobs_employer_name_upper, k = 15), 'debar': random.choices(debar_employee_name_upper, k = 15)})"
   ]
  },
  {
   "cell_type": "code",
   "execution_count": 22,
   "metadata": {},
   "outputs": [],
   "source": [
    "## insert your code for assigning the uppercase names back to the data\n",
    "debar_clean['Name'] = debar_employee_name_upper\n",
    "jobs['EMPLOYER_NAME'] = jobs_employer_name_upper"
   ]
  },
  {
   "cell_type": "markdown",
   "metadata": {},
   "source": [
    "### 2.3.2 Clean up punctuation (4 points)\n",
    "\n",
    "You notice that INC, CO, and LLC are sometimes followed by a period (.) but sometimes not\n",
    "\n",
    "A. For each dataset, write a regex pattern using `re.sub` to remove the . but only if it's preceded by INC, LLC, or CO \n",
    "\n",
    "Make sure LLC, INC, CO remain part of the string but just without the dot\n",
    "\n",
    "B. Test the pattern on the positive and negative example we provide below and print the result. See the Github issue for examples of what to return\n",
    "\n",
    "\n",
    "**Hint**: https://stackoverflow.com/questions/7191209/python-re-sub-replace-with-matched-content\n",
    "\n"
   ]
  },
  {
   "cell_type": "code",
   "execution_count": 23,
   "metadata": {},
   "outputs": [],
   "source": [
    "pos_example_1 = \"CISCO PRODUCE INC.\"\n",
    "pos_example_2 = \"AVOYELLES HONEY CO., LLC\"\n",
    "neg_example = \"E.V. RANCH LLP\""
   ]
  },
  {
   "cell_type": "code",
   "execution_count": 24,
   "metadata": {},
   "outputs": [
    {
     "data": {
      "text/plain": [
       "'CISCO PRODUCE INC'"
      ]
     },
     "execution_count": 24,
     "metadata": {},
     "output_type": "execute_result"
    },
    {
     "data": {
      "text/plain": [
       "'AVOYELLES HONEY CO, LLC'"
      ]
     },
     "execution_count": 24,
     "metadata": {},
     "output_type": "execute_result"
    },
    {
     "data": {
      "text/plain": [
       "'E.V. RANCH LLP'"
      ]
     },
     "execution_count": 24,
     "metadata": {},
     "output_type": "execute_result"
    }
   ],
   "source": [
    "## insert your code here with the regex pattern for part A\n",
    "pattern = r'(INC|LLC|CO)\\.'\n",
    "\n",
    "## insert your code to use re.sub to apply the pattern to the test cases for part B\n",
    "## '\\1' is the content matched in the first capture group \n",
    "re.sub(pattern, r'\\1', pos_example_1)\n",
    "re.sub(pattern, r'\\1', pos_example_2)\n",
    "re.sub(pattern, r'\\1', neg_example)"
   ]
  },
  {
   "cell_type": "markdown",
   "metadata": {},
   "source": [
    "### 2.3.3 Clean employer names (4 points)\n",
    "\n",
    "Use that pattern in conjunction with `re.sub` and list comprehension to clean the employer name columns in each dataset. Save the new columns as `name_clean` in each. Then, use row subsetting to (1) subset to rows that changed names and (2) for:\n",
    "\n",
    "- `debar_clean` print the `Name` and `name_clean` columns\n",
    "- `jobs` print the `EMPLOYER_NAME` and `name_clean` columns\n",
    "\n",
    "Make sure to use the uppercase versions of the variables\n"
   ]
  },
  {
   "cell_type": "code",
   "execution_count": 25,
   "metadata": {},
   "outputs": [],
   "source": [
    "## your code here to clean the columns\n",
    "debar_clean['name_clean'] = [re.sub(pattern, r'\\1', name) for name in debar_clean['Name']]\n",
    "jobs['name_clean'] = [re.sub(pattern, r'\\1', name) for name in jobs['EMPLOYER_NAME']]\n",
    "\n",
    "## subset the rows where the name is cleaned (changed)\n",
    "debar_name_cleaned = debar_clean[debar_clean.Name != debar_clean.name_clean]\n",
    "jobs_name_cleaned = jobs[jobs.EMPLOYER_NAME != jobs.name_clean]"
   ]
  },
  {
   "cell_type": "code",
   "execution_count": 26,
   "metadata": {},
   "outputs": [
    {
     "data": {
      "text/html": [
       "<div>\n",
       "<style scoped>\n",
       "    .dataframe tbody tr th:only-of-type {\n",
       "        vertical-align: middle;\n",
       "    }\n",
       "\n",
       "    .dataframe tbody tr th {\n",
       "        vertical-align: top;\n",
       "    }\n",
       "\n",
       "    .dataframe thead th {\n",
       "        text-align: right;\n",
       "    }\n",
       "</style>\n",
       "<table border=\"1\" class=\"dataframe\">\n",
       "  <thead>\n",
       "    <tr style=\"text-align: right;\">\n",
       "      <th></th>\n",
       "      <th>Name</th>\n",
       "      <th>name_clean</th>\n",
       "    </tr>\n",
       "  </thead>\n",
       "  <tbody>\n",
       "    <tr>\n",
       "      <th>3</th>\n",
       "      <td>ANTON FERTILIZER INC.</td>\n",
       "      <td>ANTON FERTILIZER INC</td>\n",
       "    </tr>\n",
       "    <tr>\n",
       "      <th>4</th>\n",
       "      <td>GREAT PLAINS FLUID SERVICE, INC.</td>\n",
       "      <td>GREAT PLAINS FLUID SERVICE, INC</td>\n",
       "    </tr>\n",
       "    <tr>\n",
       "      <th>5</th>\n",
       "      <td>PROMAX INC.</td>\n",
       "      <td>PROMAX INC</td>\n",
       "    </tr>\n",
       "    <tr>\n",
       "      <th>13</th>\n",
       "      <td>REIMER'S INC.</td>\n",
       "      <td>REIMER'S INC</td>\n",
       "    </tr>\n",
       "    <tr>\n",
       "      <th>19</th>\n",
       "      <td>CISCO PRODUCE INC.</td>\n",
       "      <td>CISCO PRODUCE INC</td>\n",
       "    </tr>\n",
       "  </tbody>\n",
       "</table>\n",
       "</div>"
      ],
      "text/plain": [
       "                                Name                       name_clean\n",
       "3              ANTON FERTILIZER INC.             ANTON FERTILIZER INC\n",
       "4   GREAT PLAINS FLUID SERVICE, INC.  GREAT PLAINS FLUID SERVICE, INC\n",
       "5                        PROMAX INC.                       PROMAX INC\n",
       "13                     REIMER'S INC.                     REIMER'S INC\n",
       "19                CISCO PRODUCE INC.                CISCO PRODUCE INC"
      ]
     },
     "execution_count": 26,
     "metadata": {},
     "output_type": "execute_result"
    },
    {
     "data": {
      "text/html": [
       "<div>\n",
       "<style scoped>\n",
       "    .dataframe tbody tr th:only-of-type {\n",
       "        vertical-align: middle;\n",
       "    }\n",
       "\n",
       "    .dataframe tbody tr th {\n",
       "        vertical-align: top;\n",
       "    }\n",
       "\n",
       "    .dataframe thead th {\n",
       "        text-align: right;\n",
       "    }\n",
       "</style>\n",
       "<table border=\"1\" class=\"dataframe\">\n",
       "  <thead>\n",
       "    <tr style=\"text-align: right;\">\n",
       "      <th></th>\n",
       "      <th>EMPLOYER_NAME</th>\n",
       "      <th>name_clean</th>\n",
       "    </tr>\n",
       "  </thead>\n",
       "  <tbody>\n",
       "    <tr>\n",
       "      <th>4</th>\n",
       "      <td>DUNSON HARVESTING, INC.</td>\n",
       "      <td>DUNSON HARVESTING, INC</td>\n",
       "    </tr>\n",
       "    <tr>\n",
       "      <th>7</th>\n",
       "      <td>FARM LABOR ASSOCIATION FOR GROWERS, INC.</td>\n",
       "      <td>FARM LABOR ASSOCIATION FOR GROWERS, INC</td>\n",
       "    </tr>\n",
       "    <tr>\n",
       "      <th>14</th>\n",
       "      <td>MCLAIN FARMS, INC.</td>\n",
       "      <td>MCLAIN FARMS, INC</td>\n",
       "    </tr>\n",
       "    <tr>\n",
       "      <th>17</th>\n",
       "      <td>BONNIE PLANTS, INC.</td>\n",
       "      <td>BONNIE PLANTS, INC</td>\n",
       "    </tr>\n",
       "    <tr>\n",
       "      <th>18</th>\n",
       "      <td>B &amp; W QUALITY GROWERS, INC.</td>\n",
       "      <td>B &amp; W QUALITY GROWERS, INC</td>\n",
       "    </tr>\n",
       "  </tbody>\n",
       "</table>\n",
       "</div>"
      ],
      "text/plain": [
       "                               EMPLOYER_NAME  \\\n",
       "4                    DUNSON HARVESTING, INC.   \n",
       "7   FARM LABOR ASSOCIATION FOR GROWERS, INC.   \n",
       "14                        MCLAIN FARMS, INC.   \n",
       "17                       BONNIE PLANTS, INC.   \n",
       "18               B & W QUALITY GROWERS, INC.   \n",
       "\n",
       "                                 name_clean  \n",
       "4                    DUNSON HARVESTING, INC  \n",
       "7   FARM LABOR ASSOCIATION FOR GROWERS, INC  \n",
       "14                        MCLAIN FARMS, INC  \n",
       "17                       BONNIE PLANTS, INC  \n",
       "18               B & W QUALITY GROWERS, INC  "
      ]
     },
     "execution_count": 26,
     "metadata": {},
     "output_type": "execute_result"
    }
   ],
   "source": [
    "## your code here to print the head\n",
    "debar_name_cleaned[['Name', 'name_clean']].head()\n",
    "jobs_name_cleaned[['EMPLOYER_NAME', 'name_clean']].head()"
   ]
  },
  {
   "cell_type": "markdown",
   "metadata": {},
   "source": [
    "## 2.4 More joins and more cleaning (5 points)\n",
    "\n",
    "A. Conduct another inner join between `jobs` and `debar_clean` now using the `name_clean` column; print the result. Did the cleaning result in any more employers matched between the two datasets?\n",
    "\n",
    "B. Create a new column in `debar_clean` called `name_clean_2` that uses regex to take the following name in that dataset:\n",
    "\n",
    "- `SLASH E.V. RANCH LLP` in the `debar_clean` dataset\n",
    "\n",
    "And cleans it up so that it matches with this employer in `jobs`\n",
    "\n",
    "- `SLASH EV RANCH` in the `jobs` dataset\n",
    "\n",
    "Eg a pattern to remove the dots in the EV and the space+LLP-- you can apply the pattern to all employer names in debar_clean (so don't need to worry about only applying it to that one employer)\n",
    "\n",
    "\n",
    "C. Conduct a left join using `name_clean_2` as the join column where the left hand dataframe is `jobs`; right hand dataframe is `debar_clean`, store the result as a dataframe, and print the rows where the merge indicator indicates the row was found in both dataframe. Write a sentence describing how name cleaning affected the match results.\n",
    "\n",
    "**Note**: this manual cleaning process is inefficient and may miss other likely matches. A better approach would be fuzzy matching, which would recognize that 'Slash EV ranch' is a highly similar string to 'slash ev ranch llp' and match them without us needing to use regex to make the strings identical. We may talk about this in class later if time!"
   ]
  },
  {
   "cell_type": "code",
   "execution_count": 27,
   "metadata": {},
   "outputs": [
    {
     "data": {
      "text/html": [
       "<div>\n",
       "<style scoped>\n",
       "    .dataframe tbody tr th:only-of-type {\n",
       "        vertical-align: middle;\n",
       "    }\n",
       "\n",
       "    .dataframe tbody tr th {\n",
       "        vertical-align: top;\n",
       "    }\n",
       "\n",
       "    .dataframe thead th {\n",
       "        text-align: right;\n",
       "    }\n",
       "</style>\n",
       "<table border=\"1\" class=\"dataframe\">\n",
       "  <thead>\n",
       "    <tr style=\"text-align: right;\">\n",
       "      <th></th>\n",
       "      <th>Name</th>\n",
       "      <th>City, State</th>\n",
       "      <th>Violation</th>\n",
       "      <th>Duration</th>\n",
       "      <th>Start date</th>\n",
       "      <th>End date</th>\n",
       "      <th>violation_number</th>\n",
       "      <th>State</th>\n",
       "      <th>State_long_indicator</th>\n",
       "      <th>State_cleaned</th>\n",
       "      <th>...</th>\n",
       "      <th>TOTAL_HOUSING_RECORDS</th>\n",
       "      <th>MEALS_PROVIDED</th>\n",
       "      <th>MEALS_CHARGED</th>\n",
       "      <th>MEAL_REIMBURSEMENT_MINIMUM</th>\n",
       "      <th>MEAL_REIMBURSEMENT_MAXIMUM</th>\n",
       "      <th>PHONE_TO_APPLY</th>\n",
       "      <th>EMAIL_TO_APPLY</th>\n",
       "      <th>WEBSITE_TO_APPLY</th>\n",
       "      <th>TOTAL_ADDENDUM_A_RECORDS</th>\n",
       "      <th>_merge</th>\n",
       "    </tr>\n",
       "  </thead>\n",
       "  <tbody>\n",
       "    <tr>\n",
       "      <th>0</th>\n",
       "      <td>RAFAEL BARAJAS</td>\n",
       "      <td>Sebring, Florida</td>\n",
       "      <td>Non-payment of certification fee</td>\n",
       "      <td>1 year</td>\n",
       "      <td>9/23/2016</td>\n",
       "      <td>9/22/2017</td>\n",
       "      <td>viol1</td>\n",
       "      <td>Florida</td>\n",
       "      <td>True</td>\n",
       "      <td>FL</td>\n",
       "      <td>...</td>\n",
       "      <td>3</td>\n",
       "      <td>Y</td>\n",
       "      <td>12.68</td>\n",
       "      <td>12.68</td>\n",
       "      <td>55.0</td>\n",
       "      <td>18632732686</td>\n",
       "      <td>NaN</td>\n",
       "      <td>https://seasonaljobs.dol.gov/</td>\n",
       "      <td>7</td>\n",
       "      <td>both</td>\n",
       "    </tr>\n",
       "  </tbody>\n",
       "</table>\n",
       "<p>1 rows × 150 columns</p>\n",
       "</div>"
      ],
      "text/plain": [
       "             Name       City, State                         Violation  \\\n",
       "0  RAFAEL BARAJAS  Sebring, Florida  Non-payment of certification fee   \n",
       "\n",
       "  Duration Start date   End date violation_number    State  \\\n",
       "0   1 year  9/23/2016  9/22/2017            viol1  Florida   \n",
       "\n",
       "   State_long_indicator State_cleaned  ... TOTAL_HOUSING_RECORDS  \\\n",
       "0                  True            FL  ...                     3   \n",
       "\n",
       "  MEALS_PROVIDED MEALS_CHARGED MEAL_REIMBURSEMENT_MINIMUM  \\\n",
       "0              Y         12.68                      12.68   \n",
       "\n",
       "  MEAL_REIMBURSEMENT_MAXIMUM PHONE_TO_APPLY EMAIL_TO_APPLY  \\\n",
       "0                       55.0    18632732686            NaN   \n",
       "\n",
       "                WEBSITE_TO_APPLY TOTAL_ADDENDUM_A_RECORDS _merge  \n",
       "0  https://seasonaljobs.dol.gov/                        7   both  \n",
       "\n",
       "[1 rows x 150 columns]"
      ]
     },
     "execution_count": 27,
     "metadata": {},
     "output_type": "execute_result"
    }
   ],
   "source": [
    "## your code here\n",
    "## join the two cleaned datasets\n",
    "cleaned_inner_join = pd.merge(debar_clean, jobs, how='inner', on = 'name_clean', indicator=True)\n",
    "cleaned_inner_join"
   ]
  },
  {
   "attachments": {},
   "cell_type": "markdown",
   "metadata": {},
   "source": [
    "(your interpretation here)\n",
    "\n",
    "The initial name cleaning did not result in any more matches."
   ]
  },
  {
   "cell_type": "code",
   "execution_count": 28,
   "metadata": {},
   "outputs": [
    {
     "data": {
      "text/html": [
       "<div>\n",
       "<style scoped>\n",
       "    .dataframe tbody tr th:only-of-type {\n",
       "        vertical-align: middle;\n",
       "    }\n",
       "\n",
       "    .dataframe tbody tr th {\n",
       "        vertical-align: top;\n",
       "    }\n",
       "\n",
       "    .dataframe thead th {\n",
       "        text-align: right;\n",
       "    }\n",
       "</style>\n",
       "<table border=\"1\" class=\"dataframe\">\n",
       "  <thead>\n",
       "    <tr style=\"text-align: right;\">\n",
       "      <th></th>\n",
       "      <th>Name</th>\n",
       "      <th>name_clean</th>\n",
       "      <th>name_clean_2</th>\n",
       "    </tr>\n",
       "  </thead>\n",
       "  <tbody>\n",
       "    <tr>\n",
       "      <th>20</th>\n",
       "      <td>SLASH E.V. RANCH LLP</td>\n",
       "      <td>SLASH E.V. RANCH LLP</td>\n",
       "      <td>SLASH EV RANCH</td>\n",
       "    </tr>\n",
       "  </tbody>\n",
       "</table>\n",
       "</div>"
      ],
      "text/plain": [
       "                    Name            name_clean    name_clean_2\n",
       "20  SLASH E.V. RANCH LLP  SLASH E.V. RANCH LLP  SLASH EV RANCH"
      ]
     },
     "execution_count": 28,
     "metadata": {},
     "output_type": "execute_result"
    },
    {
     "data": {
      "text/plain": [
       "791     RAFAEL BARAJAS\n",
       "1115    SLASH EV RANCH\n",
       "Name: name_clean_2, dtype: object"
      ]
     },
     "execution_count": 28,
     "metadata": {},
     "output_type": "execute_result"
    },
    {
     "data": {
      "text/html": [
       "<div>\n",
       "<style scoped>\n",
       "    .dataframe tbody tr th:only-of-type {\n",
       "        vertical-align: middle;\n",
       "    }\n",
       "\n",
       "    .dataframe tbody tr th {\n",
       "        vertical-align: top;\n",
       "    }\n",
       "\n",
       "    .dataframe thead th {\n",
       "        text-align: right;\n",
       "    }\n",
       "</style>\n",
       "<table border=\"1\" class=\"dataframe\">\n",
       "  <thead>\n",
       "    <tr style=\"text-align: right;\">\n",
       "      <th></th>\n",
       "      <th>Name</th>\n",
       "      <th>City, State</th>\n",
       "      <th>Violation</th>\n",
       "      <th>Duration</th>\n",
       "      <th>Start date</th>\n",
       "      <th>End date</th>\n",
       "      <th>violation_number</th>\n",
       "      <th>State</th>\n",
       "      <th>State_long_indicator</th>\n",
       "      <th>State_cleaned</th>\n",
       "      <th>name_clean</th>\n",
       "      <th>name_clean_2</th>\n",
       "    </tr>\n",
       "  </thead>\n",
       "  <tbody>\n",
       "    <tr>\n",
       "      <th>20</th>\n",
       "      <td>SLASH E.V. RANCH LLP</td>\n",
       "      <td>Rifle, CO</td>\n",
       "      <td>WHD Debarment</td>\n",
       "      <td>1 year</td>\n",
       "      <td>11/15/2014</td>\n",
       "      <td>11/14/2015</td>\n",
       "      <td>viol1</td>\n",
       "      <td>CO</td>\n",
       "      <td>False</td>\n",
       "      <td>CO</td>\n",
       "      <td>SLASH E.V. RANCH LLP</td>\n",
       "      <td>SLASH EV RANCH</td>\n",
       "    </tr>\n",
       "  </tbody>\n",
       "</table>\n",
       "</div>"
      ],
      "text/plain": [
       "                    Name City, State      Violation Duration  Start date  \\\n",
       "20  SLASH E.V. RANCH LLP   Rifle, CO  WHD Debarment   1 year  11/15/2014   \n",
       "\n",
       "      End date violation_number State  State_long_indicator State_cleaned  \\\n",
       "20  11/14/2015            viol1    CO                 False            CO   \n",
       "\n",
       "              name_clean    name_clean_2  \n",
       "20  SLASH E.V. RANCH LLP  SLASH EV RANCH  "
      ]
     },
     "execution_count": 28,
     "metadata": {},
     "output_type": "execute_result"
    }
   ],
   "source": [
    "## create name_clean2\n",
    "############# NEED TO FIX THE REGEX PATTERN; THE QUESTION IS UNCLEAR #############\n",
    "# EV_pattern = r'(\\bE\\.V\\b)|(\\.LLP)'\n",
    "# debar_clean['name_clean_2'] = [re.sub(pattern2, '', name) for name in debar_clean['name_clean']]\n",
    "\n",
    "debar_clean['name_clean_2'] = debar_clean['name_clean'].apply(lambda x: re.sub(r'E.V. RANCH LLP', 'EV RANCH', x))\n",
    "debar_clean[debar_clean.name_clean == \"SLASH E.V. RANCH LLP\"][['Name', 'name_clean', 'name_clean_2']]\n",
    "left_merged_df = jobs.merge(debar_clean, left_on='name_clean', right_on='name_clean_2', how='left', indicator=True)\n",
    "left_merged_df[left_merged_df['_merge'] == 'both']['name_clean_2']\n",
    "\n",
    "debar_clean[debar_clean.name_clean == 'SLASH E.V. RANCH LLP']"
   ]
  },
  {
   "attachments": {},
   "cell_type": "markdown",
   "metadata": {},
   "source": [
    "*****NEED TO CHECK \n",
    "\n",
    "The cleaning of the Name and EMPLOYER_NAME columns improved the match results as it made it easier to identify the same employer in both datasets by removing inconsistencies in the way the name was written."
   ]
  },
  {
   "cell_type": "markdown",
   "metadata": {},
   "source": [
    "# 3. Regex to separate companies from individuals (6 points)\n",
    "\n",
    "You notice some employers in `debar_clean` have both the name of the company and the name of individual, e.g.:\n",
    "    \n",
    "COUNTY FAIR FARM (COMPANY) AND ANDREW WILLIAMSON (INDIVIDUAL)*\n",
    "\n",
    "Use the uppercase/cleaned `name_clean` in `debar_clean`\n",
    "\n",
    "A. Write a regex pattern that does the following:\n",
    "    - Captures the pattern that occurs before COMPANY if (COMPANY) is in string; so in example above, extracts COUNTY FAIR FARM \n",
    "    - Captures the pattern that occurs before INDIVIDUAL if (INDIVIDUAL) is also in string -- so in above, extracts ANDREW WILLIAMSON (so omit the \"and\")\n",
    "    \n",
    "B. Test the pattern on `pos_example` and `neg_example`-- make sure former returns a list (if using find.all) or match object (if using re.search) with the company name and individual name separated out; make sure latter returns empty\n",
    "    \n",
    "**Hints and resources**: for step A, you can either use re.search, re.match, or re.findall; don't worry about matching B&R Harvesting and Paul Cruz (Individual)\n",
    "\n",
    "- Same regex resources as above\n",
    "    "
   ]
  },
  {
   "cell_type": "code",
   "execution_count": 27,
   "metadata": {},
   "outputs": [
    {
     "data": {
      "text/plain": [
       "[('COUNTY FAIR FARM', 'ANDREW WILLIAMSON')]"
      ]
     },
     "execution_count": 27,
     "metadata": {},
     "output_type": "execute_result"
    }
   ],
   "source": [
    "pos_example = \"COUNTY FAIR FARM (COMPANY) AND ANDREW WILLIAMSON (INDIVIDUAL)*\"\n",
    "neg_example = \"CISCO PRODUCE INC\"\n",
    "\n",
    "## your code here to define the pattern\n",
    "## When using parentheses to group parts of a regex pattern, all matched content will be captured, not just the grouped parts. \n",
    "## The grouped content, however, will be accessible as separate elements within the match object or match list, depending on \n",
    "## the method used (e.g. re.search or re.findall).\n",
    "company_individual_pattern = r'(.*)\\s+\\(COMPANY\\)\\s+AND\\s+(.*)\\s+\\(INDIVIDUAL\\)'\n",
    "\n",
    "## your code here to apply it to the pos_example\n",
    "re.findall(company_individual_pattern, pos_example)\n",
    "\n",
    "## your code here to apply it to the negative example\n",
    "re.search(company_individual_pattern, neg_example)"
   ]
  },
  {
   "attachments": {},
   "cell_type": "markdown",
   "metadata": {},
   "source": [
    "C. Iterate over the `name_clean` column in debar and use regex to create two new columns in `debar_clean`:\n",
    "   - `co_name`: A column for company (full `name_clean` string if no match; pattern before COMPANY if one extracted)\n",
    "   - `ind_name`: A column for individual (full `name_clean` string if no match; pattern before INDIVIDUAL if one extracted)\n",
    "\n"
   ]
  },
  {
   "cell_type": "code",
   "execution_count": 28,
   "metadata": {},
   "outputs": [],
   "source": [
    "# your code here\n",
    "debar_clean[['co_name', 'ind_name']] = debar_clean['name_clean'].str.extract(company_individual_pattern, expand=True)\n",
    "debar_clean['co_name'].fillna(debar_clean['name_clean'], inplace=True)\n",
    "debar_clean['ind_name'].fillna(debar_clean['name_clean'], inplace=True)"
   ]
  },
  {
   "cell_type": "markdown",
   "metadata": {},
   "source": [
    "   \n",
    "D. Print three columns for the rows in `debar_clean` containing the negative example and positive example described above (county fair farm and cisco produce):\n",
    "\n",
    "- `name_clean`\n",
    "- `co_name`\n",
    "- `ind_name`\n",
    "- `Violation`\n",
    "\n",
    "**Note**: as shown in the outcome there may be duplicates of the same company reflecting different violations"
   ]
  },
  {
   "cell_type": "code",
   "execution_count": 29,
   "metadata": {},
   "outputs": [
    {
     "data": {
      "text/html": [
       "<div>\n",
       "<style scoped>\n",
       "    .dataframe tbody tr th:only-of-type {\n",
       "        vertical-align: middle;\n",
       "    }\n",
       "\n",
       "    .dataframe tbody tr th {\n",
       "        vertical-align: top;\n",
       "    }\n",
       "\n",
       "    .dataframe thead th {\n",
       "        text-align: right;\n",
       "    }\n",
       "</style>\n",
       "<table border=\"1\" class=\"dataframe\">\n",
       "  <thead>\n",
       "    <tr style=\"text-align: right;\">\n",
       "      <th></th>\n",
       "      <th>name_clean</th>\n",
       "      <th>co_name</th>\n",
       "      <th>ind_name</th>\n",
       "      <th>Violation</th>\n",
       "    </tr>\n",
       "  </thead>\n",
       "  <tbody>\n",
       "    <tr>\n",
       "      <th>108</th>\n",
       "      <td>COUNTY FAIR FARM (COMPANY) AND ANDREW WILLIAMS...</td>\n",
       "      <td>COUNTY FAIR FARM</td>\n",
       "      <td>ANDREW WILLIAMSON</td>\n",
       "      <td>WHD Debarment</td>\n",
       "    </tr>\n",
       "  </tbody>\n",
       "</table>\n",
       "</div>"
      ],
      "text/plain": [
       "                                            name_clean           co_name  \\\n",
       "108  COUNTY FAIR FARM (COMPANY) AND ANDREW WILLIAMS...  COUNTY FAIR FARM   \n",
       "\n",
       "              ind_name      Violation  \n",
       "108  ANDREW WILLIAMSON  WHD Debarment  "
      ]
     },
     "execution_count": 29,
     "metadata": {},
     "output_type": "execute_result"
    },
    {
     "data": {
      "text/html": [
       "<div>\n",
       "<style scoped>\n",
       "    .dataframe tbody tr th:only-of-type {\n",
       "        vertical-align: middle;\n",
       "    }\n",
       "\n",
       "    .dataframe tbody tr th {\n",
       "        vertical-align: top;\n",
       "    }\n",
       "\n",
       "    .dataframe thead th {\n",
       "        text-align: right;\n",
       "    }\n",
       "</style>\n",
       "<table border=\"1\" class=\"dataframe\">\n",
       "  <thead>\n",
       "    <tr style=\"text-align: right;\">\n",
       "      <th></th>\n",
       "      <th>name_clean</th>\n",
       "      <th>co_name</th>\n",
       "      <th>ind_name</th>\n",
       "      <th>Violation</th>\n",
       "    </tr>\n",
       "  </thead>\n",
       "  <tbody>\n",
       "    <tr>\n",
       "      <th>19</th>\n",
       "      <td>CISCO PRODUCE INC</td>\n",
       "      <td>CISCO PRODUCE INC</td>\n",
       "      <td>CISCO PRODUCE INC</td>\n",
       "      <td>Failure to respond to audit (no response)</td>\n",
       "    </tr>\n",
       "    <tr>\n",
       "      <th>56</th>\n",
       "      <td>CISCO PRODUCE INC</td>\n",
       "      <td>CISCO PRODUCE INC</td>\n",
       "      <td>CISCO PRODUCE INC</td>\n",
       "      <td>Impeding the Audit Process – Non- Response</td>\n",
       "    </tr>\n",
       "  </tbody>\n",
       "</table>\n",
       "</div>"
      ],
      "text/plain": [
       "           name_clean            co_name           ind_name  \\\n",
       "19  CISCO PRODUCE INC  CISCO PRODUCE INC  CISCO PRODUCE INC   \n",
       "56  CISCO PRODUCE INC  CISCO PRODUCE INC  CISCO PRODUCE INC   \n",
       "\n",
       "                                     Violation  \n",
       "19   Failure to respond to audit (no response)  \n",
       "56  Impeding the Audit Process – Non- Response  "
      ]
     },
     "execution_count": 29,
     "metadata": {},
     "output_type": "execute_result"
    }
   ],
   "source": [
    "# your code here\n",
    "debar_clean[debar_clean.name_clean == pos_example][['name_clean', 'co_name', 'ind_name', 'Violation']]\n",
    "debar_clean[debar_clean.name_clean == neg_example][['name_clean', 'co_name', 'ind_name', 'Violation']]"
   ]
  },
  {
   "cell_type": "markdown",
   "metadata": {},
   "source": []
  },
  {
   "cell_type": "markdown",
   "metadata": {},
   "source": [
    "# 4. Optional extra credit: Geospatial visualization (2 points)\n",
    "\n",
    "Geocode the employer addresses in `jobs` and plot the addresses of jobs as points overlaid on a map of Georgia. This involves Googling and using external sources to figure out the code (a common practice in real-life data science), since we haven't spatial data in the course. \n",
    "\n",
    "**Hints:**\n",
    "- Relevant columns include `EMPLOYER_ADDRESS_1` \n",
    "- The geocoding might have a long runtime, so feel free to implement it in a separate `.py` script that you submit alongside your notebook and to just read in the geocoded data\n",
    "\n",
    "**Resources:**\n",
    "- [Discussion of geocoding addresses -> lat/long](https://www.natasshaselvaraj.com/a-step-by-step-guide-on-geocoding-in-python/)\n",
    "- [Discussion of plotting lat/long dots against a map using geopandas](https://towardsdatascience.com/plotting-maps-with-geopandas-428c97295a73)"
   ]
  },
  {
   "cell_type": "code",
   "execution_count": 30,
   "metadata": {},
   "outputs": [],
   "source": [
    "georgia_jobs = jobs[jobs.EMPLOYER_STATE == 'GA']"
   ]
  },
  {
   "cell_type": "code",
   "execution_count": 34,
   "metadata": {},
   "outputs": [],
   "source": [
    "## NOTE: This code will takes approximately 50 seconds to run as getting the geolocation of each address is a slow process (API limiation)\n",
    "import requests\n",
    "\n",
    "def get_geolocation(address):\n",
    "    url = f\"https://nominatim.openstreetmap.org/search?q={address}&format=json&limit=1\"\n",
    "    response = requests.get(url)\n",
    "    data = response.json()\n",
    "    if data:\n",
    "        latitude = data[0]['lat']\n",
    "        longitude = data[0]['lon']\n",
    "        return latitude, longitude\n",
    "    return []\n",
    "\n",
    "geo_addresses = []\n",
    "for add in georgia_jobs['EMPLOYER_ADDRESS_1']:\n",
    "    geo_addresses.append(get_geolocation(add))"
   ]
  },
  {
   "cell_type": "code",
   "execution_count": 37,
   "metadata": {},
   "outputs": [
    {
     "name": "stdout",
     "output_type": "stream",
     "text": [
      "Requirement already satisfied: folium in /Users/aimen/opt/anaconda3/lib/python3.9/site-packages (0.14.0)\n",
      "Requirement already satisfied: requests in /Users/aimen/opt/anaconda3/lib/python3.9/site-packages (from folium) (2.27.1)\n",
      "Requirement already satisfied: branca>=0.6.0 in /Users/aimen/opt/anaconda3/lib/python3.9/site-packages (from folium) (0.6.0)\n",
      "Requirement already satisfied: numpy in /Users/aimen/opt/anaconda3/lib/python3.9/site-packages (from folium) (1.21.5)\n",
      "Requirement already satisfied: jinja2>=2.9 in /Users/aimen/opt/anaconda3/lib/python3.9/site-packages (from folium) (2.11.3)\n",
      "Requirement already satisfied: MarkupSafe>=0.23 in /Users/aimen/opt/anaconda3/lib/python3.9/site-packages (from jinja2>=2.9->folium) (2.0.1)\n",
      "Requirement already satisfied: charset-normalizer~=2.0.0 in /Users/aimen/opt/anaconda3/lib/python3.9/site-packages (from requests->folium) (2.0.4)\n",
      "Requirement already satisfied: idna<4,>=2.5 in /Users/aimen/opt/anaconda3/lib/python3.9/site-packages (from requests->folium) (3.3)\n",
      "Requirement already satisfied: certifi>=2017.4.17 in /Users/aimen/opt/anaconda3/lib/python3.9/site-packages (from requests->folium) (2021.10.8)\n",
      "Requirement already satisfied: urllib3<1.27,>=1.21.1 in /Users/aimen/opt/anaconda3/lib/python3.9/site-packages (from requests->folium) (1.26.9)\n"
     ]
    }
   ],
   "source": [
    "## You might need to install folium library for the visualization\n",
    "# !pip install folium"
   ]
  },
  {
   "cell_type": "code",
   "execution_count": 38,
   "metadata": {},
   "outputs": [
    {
     "data": {
      "text/plain": [
       "<folium.vector_layers.CircleMarker at 0x7fbe29460550>"
      ]
     },
     "execution_count": 38,
     "metadata": {},
     "output_type": "execute_result"
    },
    {
     "data": {
      "text/plain": [
       "<folium.vector_layers.CircleMarker at 0x7fbe4a2ae040>"
      ]
     },
     "execution_count": 38,
     "metadata": {},
     "output_type": "execute_result"
    },
    {
     "data": {
      "text/plain": [
       "<folium.vector_layers.CircleMarker at 0x7fbe4a2ae880>"
      ]
     },
     "execution_count": 38,
     "metadata": {},
     "output_type": "execute_result"
    },
    {
     "data": {
      "text/plain": [
       "<folium.vector_layers.CircleMarker at 0x7fbe4a2ae8e0>"
      ]
     },
     "execution_count": 38,
     "metadata": {},
     "output_type": "execute_result"
    },
    {
     "data": {
      "text/plain": [
       "<folium.vector_layers.CircleMarker at 0x7fbe4a2ae2b0>"
      ]
     },
     "execution_count": 38,
     "metadata": {},
     "output_type": "execute_result"
    },
    {
     "data": {
      "text/plain": [
       "<folium.vector_layers.CircleMarker at 0x7fbe4a2aeca0>"
      ]
     },
     "execution_count": 38,
     "metadata": {},
     "output_type": "execute_result"
    },
    {
     "data": {
      "text/plain": [
       "<folium.vector_layers.CircleMarker at 0x7fbe4a2aed00>"
      ]
     },
     "execution_count": 38,
     "metadata": {},
     "output_type": "execute_result"
    },
    {
     "data": {
      "text/plain": [
       "<folium.vector_layers.CircleMarker at 0x7fbe4a2aefa0>"
      ]
     },
     "execution_count": 38,
     "metadata": {},
     "output_type": "execute_result"
    },
    {
     "data": {
      "text/plain": [
       "<folium.vector_layers.CircleMarker at 0x7fbe4a2ae160>"
      ]
     },
     "execution_count": 38,
     "metadata": {},
     "output_type": "execute_result"
    },
    {
     "data": {
      "text/plain": [
       "<folium.vector_layers.CircleMarker at 0x7fbe4a2ae460>"
      ]
     },
     "execution_count": 38,
     "metadata": {},
     "output_type": "execute_result"
    },
    {
     "data": {
      "text/plain": [
       "<folium.vector_layers.CircleMarker at 0x7fbe4a2ae700>"
      ]
     },
     "execution_count": 38,
     "metadata": {},
     "output_type": "execute_result"
    },
    {
     "data": {
      "text/plain": [
       "<folium.vector_layers.CircleMarker at 0x7fbe4a2ae280>"
      ]
     },
     "execution_count": 38,
     "metadata": {},
     "output_type": "execute_result"
    },
    {
     "data": {
      "text/plain": [
       "<folium.vector_layers.CircleMarker at 0x7fbe4a2aebe0>"
      ]
     },
     "execution_count": 38,
     "metadata": {},
     "output_type": "execute_result"
    },
    {
     "data": {
      "text/plain": [
       "<folium.vector_layers.CircleMarker at 0x7fbe4a2ae310>"
      ]
     },
     "execution_count": 38,
     "metadata": {},
     "output_type": "execute_result"
    },
    {
     "data": {
      "text/plain": [
       "<folium.vector_layers.CircleMarker at 0x7fbe4a2aec70>"
      ]
     },
     "execution_count": 38,
     "metadata": {},
     "output_type": "execute_result"
    },
    {
     "data": {
      "text/plain": [
       "<folium.vector_layers.CircleMarker at 0x7fbe4a2ae250>"
      ]
     },
     "execution_count": 38,
     "metadata": {},
     "output_type": "execute_result"
    },
    {
     "data": {
      "text/plain": [
       "<folium.vector_layers.CircleMarker at 0x7fbe4a2aeac0>"
      ]
     },
     "execution_count": 38,
     "metadata": {},
     "output_type": "execute_result"
    },
    {
     "data": {
      "text/plain": [
       "<folium.vector_layers.CircleMarker at 0x7fbe4a2ae1f0>"
      ]
     },
     "execution_count": 38,
     "metadata": {},
     "output_type": "execute_result"
    },
    {
     "data": {
      "text/plain": [
       "<folium.vector_layers.CircleMarker at 0x7fbe4a2ae340>"
      ]
     },
     "execution_count": 38,
     "metadata": {},
     "output_type": "execute_result"
    },
    {
     "data": {
      "text/plain": [
       "<folium.vector_layers.CircleMarker at 0x7fbe4a2ae190>"
      ]
     },
     "execution_count": 38,
     "metadata": {},
     "output_type": "execute_result"
    },
    {
     "data": {
      "text/plain": [
       "<folium.vector_layers.CircleMarker at 0x7fbe4a2ae0a0>"
      ]
     },
     "execution_count": 38,
     "metadata": {},
     "output_type": "execute_result"
    },
    {
     "data": {
      "text/plain": [
       "<folium.vector_layers.CircleMarker at 0x7fbe4a2aedf0>"
      ]
     },
     "execution_count": 38,
     "metadata": {},
     "output_type": "execute_result"
    },
    {
     "data": {
      "text/plain": [
       "<folium.vector_layers.CircleMarker at 0x7fbe4a2ae5e0>"
      ]
     },
     "execution_count": 38,
     "metadata": {},
     "output_type": "execute_result"
    },
    {
     "data": {
      "text/plain": [
       "<folium.vector_layers.CircleMarker at 0x7fbe4a2ae970>"
      ]
     },
     "execution_count": 38,
     "metadata": {},
     "output_type": "execute_result"
    },
    {
     "data": {
      "text/plain": [
       "<folium.vector_layers.CircleMarker at 0x7fbe4a2ae5b0>"
      ]
     },
     "execution_count": 38,
     "metadata": {},
     "output_type": "execute_result"
    },
    {
     "data": {
      "text/plain": [
       "<folium.vector_layers.CircleMarker at 0x7fbe4a2ae550>"
      ]
     },
     "execution_count": 38,
     "metadata": {},
     "output_type": "execute_result"
    },
    {
     "data": {
      "text/plain": [
       "<folium.vector_layers.CircleMarker at 0x7fbe4a2aef40>"
      ]
     },
     "execution_count": 38,
     "metadata": {},
     "output_type": "execute_result"
    },
    {
     "data": {
      "text/plain": [
       "<folium.vector_layers.CircleMarker at 0x7fbe4a2aeaf0>"
      ]
     },
     "execution_count": 38,
     "metadata": {},
     "output_type": "execute_result"
    },
    {
     "data": {
      "text/plain": [
       "<folium.vector_layers.CircleMarker at 0x7fbe4a2ae4f0>"
      ]
     },
     "execution_count": 38,
     "metadata": {},
     "output_type": "execute_result"
    },
    {
     "data": {
      "text/plain": [
       "<folium.vector_layers.CircleMarker at 0x7fbe4a2ae850>"
      ]
     },
     "execution_count": 38,
     "metadata": {},
     "output_type": "execute_result"
    },
    {
     "data": {
      "text/plain": [
       "<folium.vector_layers.CircleMarker at 0x7fbe4a2ae9a0>"
      ]
     },
     "execution_count": 38,
     "metadata": {},
     "output_type": "execute_result"
    },
    {
     "data": {
      "text/plain": [
       "<folium.vector_layers.CircleMarker at 0x7fbe4a2ae730>"
      ]
     },
     "execution_count": 38,
     "metadata": {},
     "output_type": "execute_result"
    },
    {
     "data": {
      "text/plain": [
       "<folium.vector_layers.CircleMarker at 0x7fbe4a2ae1c0>"
      ]
     },
     "execution_count": 38,
     "metadata": {},
     "output_type": "execute_result"
    },
    {
     "data": {
      "text/plain": [
       "<folium.vector_layers.CircleMarker at 0x7fbe4a2aee20>"
      ]
     },
     "execution_count": 38,
     "metadata": {},
     "output_type": "execute_result"
    },
    {
     "data": {
      "text/plain": [
       "<folium.vector_layers.CircleMarker at 0x7fbe4a2ae640>"
      ]
     },
     "execution_count": 38,
     "metadata": {},
     "output_type": "execute_result"
    },
    {
     "data": {
      "text/plain": [
       "<folium.vector_layers.CircleMarker at 0x7fbe4a2aed90>"
      ]
     },
     "execution_count": 38,
     "metadata": {},
     "output_type": "execute_result"
    },
    {
     "data": {
      "text/plain": [
       "<folium.vector_layers.CircleMarker at 0x7fbe4a2ae220>"
      ]
     },
     "execution_count": 38,
     "metadata": {},
     "output_type": "execute_result"
    },
    {
     "data": {
      "text/plain": [
       "<folium.vector_layers.CircleMarker at 0x7fbe4a2ae520>"
      ]
     },
     "execution_count": 38,
     "metadata": {},
     "output_type": "execute_result"
    },
    {
     "data": {
      "text/plain": [
       "<folium.vector_layers.CircleMarker at 0x7fbe4a2ae6a0>"
      ]
     },
     "execution_count": 38,
     "metadata": {},
     "output_type": "execute_result"
    },
    {
     "data": {
      "text/plain": [
       "<folium.vector_layers.CircleMarker at 0x7fbe4a2ae370>"
      ]
     },
     "execution_count": 38,
     "metadata": {},
     "output_type": "execute_result"
    },
    {
     "data": {
      "text/plain": [
       "<folium.vector_layers.CircleMarker at 0x7fbe4a2ae490>"
      ]
     },
     "execution_count": 38,
     "metadata": {},
     "output_type": "execute_result"
    },
    {
     "data": {
      "text/plain": [
       "<folium.vector_layers.CircleMarker at 0x7fbe4a2aea30>"
      ]
     },
     "execution_count": 38,
     "metadata": {},
     "output_type": "execute_result"
    },
    {
     "data": {
      "text/plain": [
       "<folium.vector_layers.CircleMarker at 0x7fbe4a2ae4c0>"
      ]
     },
     "execution_count": 38,
     "metadata": {},
     "output_type": "execute_result"
    },
    {
     "data": {
      "text/plain": [
       "<folium.vector_layers.CircleMarker at 0x7fbe4a2aed60>"
      ]
     },
     "execution_count": 38,
     "metadata": {},
     "output_type": "execute_result"
    },
    {
     "data": {
      "text/plain": [
       "<folium.vector_layers.CircleMarker at 0x7fbe4a2ae610>"
      ]
     },
     "execution_count": 38,
     "metadata": {},
     "output_type": "execute_result"
    },
    {
     "data": {
      "text/plain": [
       "<folium.vector_layers.CircleMarker at 0x7fbe4a2aedc0>"
      ]
     },
     "execution_count": 38,
     "metadata": {},
     "output_type": "execute_result"
    },
    {
     "data": {
      "text/plain": [
       "<folium.vector_layers.CircleMarker at 0x7fbe4a2ae400>"
      ]
     },
     "execution_count": 38,
     "metadata": {},
     "output_type": "execute_result"
    },
    {
     "data": {
      "text/plain": [
       "<folium.vector_layers.CircleMarker at 0x7fbe4a2aecd0>"
      ]
     },
     "execution_count": 38,
     "metadata": {},
     "output_type": "execute_result"
    },
    {
     "data": {
      "text/plain": [
       "<folium.vector_layers.CircleMarker at 0x7fbe4a2ae670>"
      ]
     },
     "execution_count": 38,
     "metadata": {},
     "output_type": "execute_result"
    },
    {
     "data": {
      "text/plain": [
       "<folium.vector_layers.CircleMarker at 0x7fbe4a2aef70>"
      ]
     },
     "execution_count": 38,
     "metadata": {},
     "output_type": "execute_result"
    },
    {
     "data": {
      "text/plain": [
       "<folium.vector_layers.CircleMarker at 0x7fbe4a2aeb20>"
      ]
     },
     "execution_count": 38,
     "metadata": {},
     "output_type": "execute_result"
    },
    {
     "data": {
      "text/plain": [
       "<folium.vector_layers.CircleMarker at 0x7fbe4a2a8820>"
      ]
     },
     "execution_count": 38,
     "metadata": {},
     "output_type": "execute_result"
    },
    {
     "data": {
      "text/plain": [
       "<folium.vector_layers.CircleMarker at 0x7fbe4a2a8310>"
      ]
     },
     "execution_count": 38,
     "metadata": {},
     "output_type": "execute_result"
    },
    {
     "data": {
      "text/plain": [
       "<folium.vector_layers.CircleMarker at 0x7fbe4a2a8760>"
      ]
     },
     "execution_count": 38,
     "metadata": {},
     "output_type": "execute_result"
    },
    {
     "data": {
      "text/plain": [
       "<folium.vector_layers.CircleMarker at 0x7fbe4a2a8370>"
      ]
     },
     "execution_count": 38,
     "metadata": {},
     "output_type": "execute_result"
    },
    {
     "data": {
      "text/plain": [
       "<folium.vector_layers.CircleMarker at 0x7fbe4a2a8970>"
      ]
     },
     "execution_count": 38,
     "metadata": {},
     "output_type": "execute_result"
    },
    {
     "data": {
      "text/plain": [
       "<folium.vector_layers.CircleMarker at 0x7fbe4a2a8e20>"
      ]
     },
     "execution_count": 38,
     "metadata": {},
     "output_type": "execute_result"
    },
    {
     "data": {
      "text/plain": [
       "<folium.vector_layers.CircleMarker at 0x7fbe4a2a8d00>"
      ]
     },
     "execution_count": 38,
     "metadata": {},
     "output_type": "execute_result"
    },
    {
     "data": {
      "text/plain": [
       "<folium.vector_layers.CircleMarker at 0x7fbe4a2a89d0>"
      ]
     },
     "execution_count": 38,
     "metadata": {},
     "output_type": "execute_result"
    },
    {
     "data": {
      "text/plain": [
       "<folium.vector_layers.CircleMarker at 0x7fbe4a2ae3a0>"
      ]
     },
     "execution_count": 38,
     "metadata": {},
     "output_type": "execute_result"
    },
    {
     "data": {
      "text/plain": [
       "<folium.vector_layers.CircleMarker at 0x7fbe4a2a88e0>"
      ]
     },
     "execution_count": 38,
     "metadata": {},
     "output_type": "execute_result"
    },
    {
     "data": {
      "text/plain": [
       "<folium.vector_layers.CircleMarker at 0x7fbe4a2aea90>"
      ]
     },
     "execution_count": 38,
     "metadata": {},
     "output_type": "execute_result"
    },
    {
     "data": {
      "text/plain": [
       "<folium.vector_layers.CircleMarker at 0x7fbe4a2a8400>"
      ]
     },
     "execution_count": 38,
     "metadata": {},
     "output_type": "execute_result"
    }
   ],
   "source": [
    "import folium\n",
    "\n",
    "map_georgia = folium.Map(location=[33.247875, -83.441162], zoom_start=7)\n",
    "\n",
    "for loc in geo_addresses:\n",
    "    if loc:\n",
    "        lat = loc[0]\n",
    "        lon = loc[1]\n",
    "        folium.CircleMarker([lat, lon], radius=3, color='red', fill=True, fill_color='red', fill_opacity=1).add_to(map_georgia)"
   ]
  },
  {
   "cell_type": "code",
   "execution_count": 39,
   "metadata": {},
   "outputs": [],
   "source": [
    "## save the map to an html file\n",
    "## please copy the path of the html file and view it in your browser\n",
    "map_georgia.save('jobs_in_ga.html')"
   ]
  },
  {
   "attachments": {},
   "cell_type": "markdown",
   "metadata": {},
   "source": [
    "Please note that some of the geocoded addresses may not be located in Georgia. This could be due to limitations in the accuracy of the conversion API or incorrect addresses in the original dataset."
   ]
  },
  {
   "cell_type": "markdown",
   "metadata": {},
   "source": []
  }
 ],
 "metadata": {
  "kernelspec": {
   "display_name": "base",
   "language": "python",
   "name": "python3"
  },
  "language_info": {
   "codemirror_mode": {
    "name": "ipython",
    "version": 3
   },
   "file_extension": ".py",
   "mimetype": "text/x-python",
   "name": "python",
   "nbconvert_exporter": "python",
   "pygments_lexer": "ipython3",
   "version": "3.9.12"
  },
  "vscode": {
   "interpreter": {
    "hash": "48a02c5e975c804dcf2278658419dc84d4068d13da7f0f36cd1aa7eb80cf5577"
   }
  }
 },
 "nbformat": 4,
 "nbformat_minor": 4
}
